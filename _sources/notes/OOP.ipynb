{
 "cells": [
  {
   "cell_type": "markdown",
   "id": "2a76aac4",
   "metadata": {},
   "source": [
    "# Object-Oriented Programming"
   ]
  },
  {
   "cell_type": "markdown",
   "id": "94236d4b",
   "metadata": {},
   "source": [
    "##  Class and Object\n",
    "\n",
    "Roughly speaking, a **class** or a **type** is a blueprint which you use to create **objects**. An object is an **instance** of a class. \n",
    "\n",
    "A class combines data (represented by **attributes**) and functions (represented by **methods**) into a single unit.\n"
   ]
  },
  {
   "cell_type": "code",
   "execution_count": 5,
   "id": "54d73581",
   "metadata": {},
   "outputs": [],
   "source": [
    "from math import sqrt\n",
    "\n",
    "class Vector():\n",
    "    # custom type for 2d vectors\n",
    "\n",
    "    # class attribute shared by all objects of this class\n",
    "    dim = 2\n",
    "    \n",
    "    def __init__(self, input_x, input_y):\n",
    "        # constructor, called when new object is created, Vector(x,y)\n",
    "        # self is the object being created\n",
    "        # .x and .y are object attributes\n",
    "        self.x = input_x\n",
    "        self.y = input_y\n",
    "    \n",
    "    def length(self):\n",
    "        # length method, returns length of vector\n",
    "        l = sqrt(self.x**2+self.y**2)\n",
    "        return l\n",
    "    \n",
    "    def scale(self, c):\n",
    "        # method that scales the vector by a constant c\n",
    "        # changes the object itself\n",
    "        # no return value, so returns None\n",
    "        self.x = self.x * c\n",
    "        self.y = self.y * c\n",
    "\n",
    "    def __repr__(self):\n",
    "        # string representation of the object\n",
    "        # without this method, it prints the memory address\n",
    "        return f'({self.x},{self.y})'\n",
    "            \n",
    "    \n",
    "    def add(self, other_vector):\n",
    "        # method that adds another vector to this vector, returns new vector\n",
    "        x_new = self.x + other_vector.x\n",
    "        y_new = self.y + other_vector.y\n",
    "        return Vector(x_new, y_new)\n",
    "        \n",
    "    def __add__(self, other_vector):\n",
    "        # special method that overloads the + operator\n",
    "        # without this method, vector + vector would raise an error\n",
    "        x_new = self.x + other_vector.x\n",
    "        y_new = self.y + other_vector.y\n",
    "        return Vector(x_new, y_new)\n",
    "    \n",
    "    def normalize(self):\n",
    "        # method that scales the vector to unit length\n",
    "        # can call other methods of the same object\n",
    "        l = self.length()\n",
    "        self.scale(1/l)"
   ]
  },
  {
   "cell_type": "code",
   "execution_count": 6,
   "id": "2bdb3b42",
   "metadata": {},
   "outputs": [
    {
     "name": "stdout",
     "output_type": "stream",
     "text": [
      "3\n",
      "1.0\n",
      "(0.6000000000000001,0.8)\n"
     ]
    }
   ],
   "source": [
    "v = Vector(3,4)\n",
    "v.x\n",
    "print(v.x)\n",
    "v.normalize()\n",
    "print(v.length())\n",
    "print(v)"
   ]
  },
  {
   "cell_type": "code",
   "execution_count": 7,
   "id": "886a46e7",
   "metadata": {},
   "outputs": [
    {
     "name": "stdout",
     "output_type": "stream",
     "text": [
      "(3,4)\n",
      "(3,4)\n"
     ]
    }
   ],
   "source": [
    "v = Vector(1,1)\n",
    "w = Vector(2,3)\n",
    "\n",
    "# custom add method\n",
    "p = v.add(w)\n",
    "print(p)\n",
    "\n",
    "# this is actually calling the __add__ method\n",
    "q = v + w\n",
    "print(q)\n",
    "\n"
   ]
  },
  {
   "cell_type": "markdown",
   "id": "637304a9",
   "metadata": {},
   "source": [
    "**Exercise:**\n",
    "\n",
    "Create a class Matrix2, which represents a 2x2 matrix. The class should have the following attributes:\n",
    "- a, b, c, d: Elements of the 2x2 matrix, organized as:\n",
    "$$\n",
    "\\begin{bmatrix}\n",
    "a & b \\\\\n",
    "c & d\n",
    "\\end{bmatrix}\n",
    "$$\n",
    "\n",
    "Methods:\n",
    "- A = Matrix2(a, b, c, d): Constructor that initializes the matrix with the given values.\n",
    "- determinant(): Calculates the determinant of the matrix.\n",
    "- transpose(): Returns a new matrix that is the transpose of the current one.\n",
    "- A+B: Adds two matrices together (element-wise addition).\n",
    "- print(A) should print the matrix in the following format:\n",
    "\n",
    "```\n",
    "| a  b |\n",
    "| c  d |\n",
    "```"
   ]
  },
  {
   "cell_type": "code",
   "execution_count": 8,
   "id": "3f60eff8",
   "metadata": {},
   "outputs": [],
   "source": [
    "class Matrix:\n",
    "    def __init__(self, a, b, c, d):\n",
    "        # constructor to initialize the elements of the matrix\n",
    "        self.a = a\n",
    "        self.b = b\n",
    "        self.c = c\n",
    "        self.d = d\n",
    "    \n",
    "    def determinant(self):\n",
    "        # calculates the determinant of the matrix\n",
    "        return self.a * self.d - self.b * self.c\n",
    "    \n",
    "    def transpose(self):\n",
    "        # returns a new matrix that is the transpose of the current one\n",
    "        return Matrix(self.a, self.c, self.b, self.d)\n",
    "    \n",
    "    def __add__(self, other):\n",
    "        # adds two matrices element-wise\n",
    "        return Matrix(self.a + other.a, self.b + other.b,\n",
    "                         self.c + other.c, self.d + other.d)\n",
    "    \n",
    "    def __mul__(self, other):\n",
    "        # performs matrix multiplication\n",
    "        return Matrix(self.a * other.a + self.b * other.c,\n",
    "                         self.a * other.b + self.b * other.d,\n",
    "                         self.c * other.a + self.d * other.c,\n",
    "                         self.c * other.b + self.d * other.d)\n",
    "    \n",
    "    def __repr__(self):\n",
    "        # string representation of the matrix\n",
    "        # \\n is a newline character\n",
    "        return f\"| {self.a}  {self.b} |\\n| {self.c}  {self.d} |\""
   ]
  },
  {
   "cell_type": "code",
   "execution_count": 9,
   "id": "79e3df36",
   "metadata": {},
   "outputs": [
    {
     "name": "stdout",
     "output_type": "stream",
     "text": [
      "| 1  2 |\n",
      "| 3  4 |\n",
      "det(A) = -2\n",
      "| 1  3 |\n",
      "| 2  4 |\n"
     ]
    }
   ],
   "source": [
    "A = Matrix(1,2,3,4)\n",
    "print(A)\n",
    "print(f'det(A) = {A.determinant()}')\n",
    "\n",
    "B = A.transpose()\n",
    "print(B)\n"
   ]
  },
  {
   "cell_type": "code",
   "execution_count": 10,
   "id": "5aa6be93",
   "metadata": {},
   "outputs": [
    {
     "name": "stdout",
     "output_type": "stream",
     "text": [
      "| 2  5 |\n",
      "| 5  8 |\n"
     ]
    }
   ],
   "source": [
    "C = A + B\n",
    "print(C)"
   ]
  },
  {
   "cell_type": "markdown",
   "id": "8bb2b5ca",
   "metadata": {},
   "source": [
    "### Extra, not exam material\n",
    "\n",
    "\n",
    "In Python, a **Module** is a file that contains Python code, such as functions, classes, or variables, which can be reused in other Python programs. For example, ``math`` is a built-in module that contains mathematical functions.\n",
    "\n",
    "We can also create our own module. We can save the definition of the ``Vector`` class in a separate file called ``myVector.py``. Then we can reuse the class in other programs by importing the module.\n",
    "\n",
    "```python\n",
    "from myVector import Vector\n",
    "v = Vector(1, 2)\n",
    "```"
   ]
  },
  {
   "cell_type": "markdown",
   "id": "84f4ac26",
   "metadata": {},
   "source": [
    "**Inheritance**: A class can inherit from another class, which means that it gets all the attributes and methods of the parent class. This is useful for code reuse and to create a hierarchy of classes. The child class can override methods of the parent class, or add new methods."
   ]
  },
  {
   "cell_type": "code",
   "execution_count": 13,
   "id": "7fe415e7",
   "metadata": {},
   "outputs": [
    {
     "name": "stdout",
     "output_type": "stream",
     "text": [
      "Snoopy says hello\n",
      "wof\n"
     ]
    }
   ],
   "source": [
    "# Parent class\n",
    "class Animal:\n",
    "    def __init__(self, name):\n",
    "        self.name = name\n",
    "\n",
    "    def sayhello(self):\n",
    "        print(f\"{self.name} says hello\")\n",
    "\n",
    "# Child class inheriting from Animal\n",
    "class Dog(Animal):\n",
    "    def speak(self):\n",
    "        print(f\"wof\")\n",
    "\n",
    "\n",
    "# Creating objects of the child classes\n",
    "dog = Dog(\"Snoopy\")\n",
    "\n",
    "# It can access the attributes and methods of the parent class\n",
    "dog.sayhello()\n",
    "\n",
    "# It also has its own methods\n",
    "dog.speak()\n"
   ]
  }
 ],
 "metadata": {
  "kernelspec": {
   "display_name": "Python 3 (ipykernel)",
   "language": "python",
   "name": "python3"
  },
  "language_info": {
   "codemirror_mode": {
    "name": "ipython",
    "version": 3
   },
   "file_extension": ".py",
   "mimetype": "text/x-python",
   "name": "python",
   "nbconvert_exporter": "python",
   "pygments_lexer": "ipython3",
   "version": "3.12.3"
  }
 },
 "nbformat": 4,
 "nbformat_minor": 5
}
