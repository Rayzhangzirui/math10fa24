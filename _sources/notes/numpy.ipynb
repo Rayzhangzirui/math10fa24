{
 "cells": [
  {
   "cell_type": "markdown",
   "metadata": {},
   "source": [
    "# NumPy Review\n"
   ]
  },
  {
   "cell_type": "markdown",
   "metadata": {},
   "source": [
    "We might use numpy occasionally in this course. Here is a quick review of some common numpy functions and operations."
   ]
  },
  {
   "cell_type": "code",
   "execution_count": 15,
   "metadata": {},
   "outputs": [],
   "source": [
    "import numpy as np\n",
    "\n"
   ]
  },
  {
   "cell_type": "code",
   "execution_count": 16,
   "metadata": {},
   "outputs": [
    {
     "name": "stdout",
     "output_type": "stream",
     "text": [
      "Array: [[1 2 3]\n",
      " [4 5 6]\n",
      " [7 8 9]]\n",
      "Shape of the array: (3, 3)\n"
     ]
    }
   ],
   "source": [
    "# Creating an array and checking its shape\n",
    "arr = np.array([[1, 2, 3], [4, 5, 6], [7, 8, 9]])\n",
    "print(\"Array:\", arr)\n",
    "print(\"Shape of the array:\", arr.shape)\n",
    "\n"
   ]
  },
  {
   "cell_type": "code",
   "execution_count": 17,
   "metadata": {},
   "outputs": [
    {
     "name": "stdout",
     "output_type": "stream",
     "text": [
      "Zeros Array: [[0. 0. 0.]\n",
      " [0. 0. 0.]]\n",
      "Ones Array: [[1. 1.]\n",
      " [1. 1.]\n",
      " [1. 1.]]\n"
     ]
    }
   ],
   "source": [
    "# Creating Special Arrays\n",
    "zeros = np.zeros((2, 3))\n",
    "print(\"Zeros Array:\", zeros)\n",
    "\n",
    "ones = np.ones((3, 2))\n",
    "print(\"Ones Array:\", ones)\n"
   ]
  },
  {
   "cell_type": "code",
   "execution_count": 18,
   "metadata": {},
   "outputs": [
    {
     "name": "stdout",
     "output_type": "stream",
     "text": [
      "Random Integer Array (0-9): [[0 7 6]\n",
      " [9 4 5]]\n",
      "Random Float Array (0-1): [[0.1068836  0.37113198 0.13798259]\n",
      " [0.14274836 0.70673626 0.98148006]]\n"
     ]
    }
   ],
   "source": [
    "# Generating Random Numbers\n",
    "randint_arr = np.random.randint(0, 10, size=(2, 3))\n",
    "print(\"Random Integer Array (0-9):\", randint_arr)\n",
    "\n",
    "rand_arr = np.random.rand(2, 3)\n",
    "print(\"Random Float Array (0-1):\", rand_arr)\n",
    "\n"
   ]
  },
  {
   "cell_type": "code",
   "execution_count": 19,
   "metadata": {},
   "outputs": [
    {
     "name": "stdout",
     "output_type": "stream",
     "text": [
      "[[1 2 3]\n",
      " [4 5 6]\n",
      " [7 8 9]]\n",
      "Element at row 0, column 1: 2\n",
      "First row: [1 2 3]\n",
      "First column: [1 4 7]\n",
      "Last row: [7 8 9]\n",
      "Subarray: [[2 3]\n",
      " [5 6]]\n"
     ]
    }
   ],
   "source": [
    "# Indexing and Slicing\n",
    "# Similar to python lists\n",
    "arr = np.array([[1, 2, 3], [4, 5, 6], [7, 8, 9]])\n",
    "\n",
    "print(arr)\n",
    "\n",
    "print(\"Element at row 0, column 1:\", arr[0, 1])\n",
    "print(\"First row:\", arr[0, :])\n",
    "print(\"First column:\", arr[:, 0])\n",
    "\n",
    "# last row\n",
    "print(\"Last row:\", arr[-1, :])\n",
    "\n",
    "# subarray 0th and 1st row, 1st and 2nd column\n",
    "# the start index is inclusive and end index is exclusive\n",
    "print(\"Subarray:\", arr[0:2, 1:3])\n"
   ]
  },
  {
   "cell_type": "code",
   "execution_count": 20,
   "metadata": {},
   "outputs": [
    {
     "name": "stdout",
     "output_type": "stream",
     "text": [
      "\n",
      "Element-wise Operations:\n",
      "Addition: [5 7 9]\n",
      "Subtraction: [-3 -3 -3]\n",
      "Multiplication: [ 4 10 18]\n",
      "Division: [0.25 0.4  0.5 ]\n",
      "add each elem by the scalar [[ 6  7  8]\n",
      " [ 9 10 11]\n",
      " [12 13 14]]\n"
     ]
    }
   ],
   "source": [
    "# Element-wise Operations\n",
    "print(\"\\nElement-wise Operations:\")\n",
    "arr1 = np.array([1, 2, 3])\n",
    "arr2 = np.array([4, 5, 6])\n",
    "\n",
    "print(\"Addition:\", arr1 + arr2)\n",
    "print(\"Subtraction:\", arr1 - arr2)\n",
    "print(\"Multiplication:\", arr1 * arr2)\n",
    "print(\"Division:\", arr1 / arr2)\n",
    "\n",
    "# Scalar Operations\n",
    "scalar = 5\n",
    "print(\"add each elem by the scalar\", arr + scalar)"
   ]
  },
  {
   "cell_type": "code",
   "execution_count": 21,
   "metadata": {},
   "outputs": [
    {
     "name": "stdout",
     "output_type": "stream",
     "text": [
      "\n",
      "Common Functions:\n",
      "Mean: 5.0\n",
      "Sum: 45\n",
      "Max: 9\n"
     ]
    }
   ],
   "source": [
    "# Common Functions\n",
    "print(\"\\nCommon Functions:\")\n",
    "print(\"Mean:\", np.mean(arr))\n",
    "print(\"Sum:\", np.sum(arr))\n",
    "print(\"Max:\", np.max(arr))"
   ]
  },
  {
   "cell_type": "code",
   "execution_count": 22,
   "metadata": {},
   "outputs": [
    {
     "name": "stdout",
     "output_type": "stream",
     "text": [
      "Mean along rows (axis=1): [2. 5. 8.]\n",
      "Mean along columns (axis=0): [4. 5. 6.]\n"
     ]
    }
   ],
   "source": [
    "# Common functions along axes\n",
    "print(\"Mean along rows (axis=1):\", np.mean(arr, axis=1))\n",
    "print(\"Mean along columns (axis=0):\", np.mean(arr, axis=0))"
   ]
  },
  {
   "cell_type": "code",
   "execution_count": 23,
   "metadata": {},
   "outputs": [
    {
     "name": "stdout",
     "output_type": "stream",
     "text": [
      "Reshaped Array: [[1 2 3 4 5 6 7 8 9]]\n"
     ]
    }
   ],
   "source": [
    "# Reshaping Arrays\n",
    "reshaped_arr = arr.reshape(1, 9)\n",
    "print(\"Reshaped Array:\", reshaped_arr)"
   ]
  },
  {
   "cell_type": "code",
   "execution_count": 24,
   "metadata": {},
   "outputs": [
    {
     "name": "stdout",
     "output_type": "stream",
     "text": [
      "Array > 5 gives: [[False False False]\n",
      " [False False  True]\n",
      " [ True  True  True]]\n",
      "Elements greater than 5: [6 7 8 9]\n",
      "Sum of True values (treating True as 1, False as 0): 4\n"
     ]
    }
   ],
   "source": [
    "# Boolean Indexing\n",
    "print(\"Array > 5 gives:\", arr > 5)\n",
    "print(\"Elements greater than 5:\", arr[arr > 5])\n",
    "print(\"Sum of True values (treating True as 1, False as 0):\", np.sum(arr > 5))"
   ]
  }
 ],
 "metadata": {
  "kernelspec": {
   "display_name": "math10",
   "language": "python",
   "name": "python3"
  },
  "language_info": {
   "codemirror_mode": {
    "name": "ipython",
    "version": 3
   },
   "file_extension": ".py",
   "mimetype": "text/x-python",
   "name": "python",
   "nbconvert_exporter": "python",
   "pygments_lexer": "ipython3",
   "version": "3.12.3"
  }
 },
 "nbformat": 4,
 "nbformat_minor": 2
}
