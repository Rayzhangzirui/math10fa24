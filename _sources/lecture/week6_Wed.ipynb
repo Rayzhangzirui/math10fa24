{
 "cells": [
  {
   "cell_type": "markdown",
   "id": "5a54a6d6",
   "metadata": {},
   "source": [
    "# Lecture Week 6 Wed 11/6"
   ]
  },
  {
   "cell_type": "markdown",
   "id": "ba9a6c14-baa6-4bff-9f0c-3519be391633",
   "metadata": {},
   "source": [
    "See note on [Gradient Descent](../notes/gradient_descent.ipynb)"
   ]
  }
 ],
 "metadata": {
  "kernelspec": {
   "display_name": "Python 3 (ipykernel)",
   "language": "python",
   "name": "python3"
  },
  "language_info": {
   "codemirror_mode": {
    "name": "ipython",
    "version": 3
   },
   "file_extension": ".py",
   "mimetype": "text/x-python",
   "name": "python",
   "nbconvert_exporter": "python",
   "pygments_lexer": "ipython3",
   "version": "3.12.3"
  }
 },
 "nbformat": 4,
 "nbformat_minor": 5
}
