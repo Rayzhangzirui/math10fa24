{
 "cells": [
  {
   "cell_type": "markdown",
   "id": "a5dd3a7e",
   "metadata": {},
   "source": [
    "# Lecture Week 2 Mon 10/7"
   ]
  },
  {
   "cell_type": "code",
   "execution_count": 5,
   "id": "ca14d9b6-8262-452c-8348-74470d56f855",
   "metadata": {},
   "outputs": [
    {
     "name": "stdout",
     "output_type": "stream",
     "text": [
      "a = hello\n"
     ]
    }
   ],
   "source": [
    "# f-string allow you to embed expressions inside the string by wrapping them in curly braces\n",
    "a = 'hello'\n",
    "formatted_string = f'a = {a}'\n",
    "print(formatted_string)"
   ]
  },
  {
   "cell_type": "code",
   "execution_count": 6,
   "id": "addccba0-ca80-46f0-a00b-607318cdc44d",
   "metadata": {},
   "outputs": [
    {
     "name": "stdout",
     "output_type": "stream",
     "text": [
      "a = 1.2\n"
     ]
    }
   ],
   "source": [
    "a = '1.2'\n",
    "formatted_string = f'a = {a}'\n",
    "print(formatted_string)"
   ]
  },
  {
   "cell_type": "code",
   "execution_count": 7,
   "id": "dba8a04b-4e4d-4e19-bf0b-a991be716bac",
   "metadata": {},
   "outputs": [
    {
     "data": {
      "text/plain": [
       "1.2246467991473532e-16"
      ]
     },
     "execution_count": 7,
     "metadata": {},
     "output_type": "execute_result"
    }
   ],
   "source": [
    "sin(pi)\n",
    "# sin and pi are not defined and will raise an error"
   ]
  },
  {
   "cell_type": "code",
   "execution_count": 8,
   "id": "65dad58b-4d19-48ea-97d2-7ef67354bc10",
   "metadata": {},
   "outputs": [],
   "source": [
    "# import the definition of sin and pi from the math module\n",
    "from math import sin,pi"
   ]
  },
  {
   "cell_type": "code",
   "execution_count": 9,
   "id": "46a9619b-b59b-45ce-8185-487ee03b2c78",
   "metadata": {},
   "outputs": [
    {
     "data": {
      "text/plain": [
       "3.141592653589793"
      ]
     },
     "execution_count": 9,
     "metadata": {},
     "output_type": "execute_result"
    }
   ],
   "source": [
    "pi"
   ]
  },
  {
   "cell_type": "code",
   "execution_count": 10,
   "id": "7361cb4f-712a-4dd7-a8ae-429168bc4b36",
   "metadata": {},
   "outputs": [
    {
     "data": {
      "text/plain": [
       "1.2246467991473532e-16"
      ]
     },
     "execution_count": 10,
     "metadata": {},
     "output_type": "execute_result"
    }
   ],
   "source": [
    "sin(pi)"
   ]
  },
  {
   "cell_type": "code",
   "execution_count": 11,
   "id": "8285ee39-d7e2-404d-8fca-398e2d8a7731",
   "metadata": {},
   "outputs": [],
   "source": [
    "# list is an example of an object: it has some data (the elements of the list) and some methods (append, remove, etc.)\n",
    "mylist = [1,2]"
   ]
  },
  {
   "cell_type": "code",
   "execution_count": 12,
   "id": "e64343c9-8172-4c12-8aba-8243fd9aec98",
   "metadata": {},
   "outputs": [
    {
     "data": {
      "text/plain": [
       "list"
      ]
     },
     "execution_count": 12,
     "metadata": {},
     "output_type": "execute_result"
    }
   ],
   "source": [
    "type(mylist)"
   ]
  },
  {
   "cell_type": "code",
   "execution_count": 13,
   "id": "63aba54b-6786-4c29-8834-13703d49b9cd",
   "metadata": {},
   "outputs": [
    {
     "name": "stdout",
     "output_type": "stream",
     "text": [
      "[1, 2, 3]\n"
     ]
    }
   ],
   "source": [
    "mylist.append(3)\n",
    "print(mylist)"
   ]
  },
  {
   "cell_type": "code",
   "execution_count": 14,
   "id": "ea910afd-3657-4058-bc58-97a26a5da3f2",
   "metadata": {},
   "outputs": [],
   "source": [
    "from math import sqrt\n",
    "class Vector():\n",
    "    dim = 2\n",
    "\n",
    "    def __init__(self, input_x, input_y):\n",
    "        # constructor, called when new object is created, Vector(x,y)\n",
    "        # self is the object being created\n",
    "        # to create a vector: v = Vector(3,4)\n",
    "        # .x and .y are object attributes\n",
    "        self.x = input_x\n",
    "        self.y = input_y\n",
    "\n",
    "    def __repr__(self):\n",
    "        # returns the string representation of the object\n",
    "        # so that print(v) is formatted\n",
    "        return f'({self.x}, {self.y})'\n",
    "\n",
    "    def length(self):\n",
    "        # custom method to returns the length of the vector\n",
    "        l = sqrt(self.x**2 + self.y**2)\n",
    "        return l\n",
    "\n",
    "    def scale(self, c):\n",
    "        # method that scales the vector by a constant c\n",
    "        # changes the object itself\n",
    "        # no return value, so returns None\n",
    "        self.x = self.x * c\n",
    "        self.y = self.y * c\n",
    "\n",
    "    def normalize(self):\n",
    "        # method that scales the vector to unit length\n",
    "        # can call other methods of the same object\n",
    "        l = self.length()\n",
    "        self.scale(1/l)\n",
    "\n",
    "    def add(self, other_vector):\n",
    "        # method that adds another vector to this vector, returns new vector\n",
    "        # to use this method: u = v1.add(v2)\n",
    "        x_new = self.x + other_vector.x\n",
    "        y_new = self.y + other_vector.y\n",
    "        return Vector(x_new, y_new)\n",
    "\n",
    "    def __add__(self, other_vector):\n",
    "        # special method that overloads the + operator\n",
    "        # to use this method: u = v1 + v2\n",
    "        # without this method, u = v1 + v2 would raise an error: unsupported operand type(s) for +: 'Vector' and 'Vector'\n",
    "        # that is, Python does not know the meaning of + for two Vector objects\n",
    "        x_new = self.x + other_vector.x\n",
    "        y_new = self.y + other_vector.y\n",
    "        return Vector(x_new, y_new)\n",
    "        "
   ]
  },
  {
   "cell_type": "code",
   "execution_count": 15,
   "id": "b4fa2555-fdc4-4810-8578-a7947dc0cbca",
   "metadata": {},
   "outputs": [],
   "source": [
    "v = Vector(3,4)\n",
    "w = Vector(1,0)\n"
   ]
  },
  {
   "cell_type": "code",
   "execution_count": 16,
   "id": "c1b4ef98-b188-4e94-9510-489c0d37e967",
   "metadata": {},
   "outputs": [
    {
     "name": "stdout",
     "output_type": "stream",
     "text": [
      "3 4 2\n"
     ]
    }
   ],
   "source": [
    "# dim is shared by all objects of the class\n",
    "print(v.x, v.y, v.dim)"
   ]
  },
  {
   "cell_type": "code",
   "execution_count": 17,
   "id": "998dd68f",
   "metadata": {},
   "outputs": [
    {
     "name": "stdout",
     "output_type": "stream",
     "text": [
      "5.0\n"
     ]
    }
   ],
   "source": [
    "print(v.length())"
   ]
  },
  {
   "cell_type": "code",
   "execution_count": 18,
   "id": "40738b98",
   "metadata": {},
   "outputs": [],
   "source": [
    "z = v.scale(2)"
   ]
  },
  {
   "cell_type": "code",
   "execution_count": 19,
   "id": "3858f3fa",
   "metadata": {},
   "outputs": [
    {
     "name": "stdout",
     "output_type": "stream",
     "text": [
      "None\n"
     ]
    }
   ],
   "source": [
    "# scale returns None, so z is None\n",
    "print(z)"
   ]
  },
  {
   "cell_type": "code",
   "execution_count": 20,
   "id": "9e90561b",
   "metadata": {},
   "outputs": [
    {
     "name": "stdout",
     "output_type": "stream",
     "text": [
      "(6, 8)\n"
     ]
    }
   ],
   "source": [
    "# x and y of v have been changed\n",
    "print(v)"
   ]
  },
  {
   "cell_type": "code",
   "execution_count": 21,
   "id": "903b0f9b",
   "metadata": {},
   "outputs": [
    {
     "name": "stdout",
     "output_type": "stream",
     "text": [
      "(0.6000000000000001, 0.8)\n"
     ]
    }
   ],
   "source": [
    "v.normalize()\n",
    "print(v)"
   ]
  },
  {
   "cell_type": "code",
   "execution_count": 22,
   "id": "b293b455-46ad-4867-bde7-352aacbb5e03",
   "metadata": {},
   "outputs": [
    {
     "name": "stdout",
     "output_type": "stream",
     "text": [
      "1 0 2\n"
     ]
    }
   ],
   "source": [
    "print(w.x, w.y, w.dim)"
   ]
  },
  {
   "cell_type": "code",
   "execution_count": 23,
   "id": "f81734e0",
   "metadata": {},
   "outputs": [
    {
     "name": "stdout",
     "output_type": "stream",
     "text": [
      "(1.6, 0.8)\n"
     ]
    }
   ],
   "source": [
    "a = v.add(w)\n",
    "print(a)"
   ]
  },
  {
   "cell_type": "code",
   "execution_count": 24,
   "id": "3f1d0949",
   "metadata": {},
   "outputs": [
    {
     "name": "stdout",
     "output_type": "stream",
     "text": [
      "(1.6, 0.8)\n"
     ]
    }
   ],
   "source": [
    "b = v + w\n",
    "print(b)"
   ]
  },
  {
   "cell_type": "code",
   "execution_count": 25,
   "id": "d4472087-ee40-4c08-9df1-8b53787e049c",
   "metadata": {},
   "outputs": [
    {
     "data": {
      "text/plain": [
       "['__add__',\n",
       " '__class__',\n",
       " '__delattr__',\n",
       " '__dict__',\n",
       " '__dir__',\n",
       " '__doc__',\n",
       " '__eq__',\n",
       " '__format__',\n",
       " '__ge__',\n",
       " '__getattribute__',\n",
       " '__getstate__',\n",
       " '__gt__',\n",
       " '__hash__',\n",
       " '__init__',\n",
       " '__init_subclass__',\n",
       " '__le__',\n",
       " '__lt__',\n",
       " '__module__',\n",
       " '__ne__',\n",
       " '__new__',\n",
       " '__reduce__',\n",
       " '__reduce_ex__',\n",
       " '__repr__',\n",
       " '__setattr__',\n",
       " '__sizeof__',\n",
       " '__str__',\n",
       " '__subclasshook__',\n",
       " '__weakref__',\n",
       " 'add',\n",
       " 'dim',\n",
       " 'length',\n",
       " 'normalize',\n",
       " 'scale',\n",
       " 'x',\n",
       " 'y']"
      ]
     },
     "execution_count": 25,
     "metadata": {},
     "output_type": "execute_result"
    }
   ],
   "source": [
    "# dir function returns the list of attributes and methods of an object\n",
    "# everything with double underscores has special meaning in Python\n",
    "dir(v)"
   ]
  },
  {
   "cell_type": "markdown",
   "id": "5d863202",
   "metadata": {},
   "source": [
    "## Extra, not exam material\n",
    "\n",
    "A module in Python is a file that contains Python code, such as definitions of functions, classes, and variables\n",
    "\n",
    "You can save the definitions of the class or function in a separate file and import it in your notebook. This is useful when you have a large class or function that you want to reuse in multiple notebooks.\n",
    "\n",
    "For example, if we save the definition of our Vector class into a file called `myVector.py`, we can import it in a new notebook like this:\n",
    "\n",
    "```python\n",
    "from myVector import Vector\n",
    "v = Vector(1, 2)\n",
    "```\n"
   ]
  }
 ],
 "metadata": {
  "kernelspec": {
   "display_name": "Python 3 (ipykernel)",
   "language": "python",
   "name": "python3"
  },
  "language_info": {
   "codemirror_mode": {
    "name": "ipython",
    "version": 3
   },
   "file_extension": ".py",
   "mimetype": "text/x-python",
   "name": "python",
   "nbconvert_exporter": "python",
   "pygments_lexer": "ipython3",
   "version": "3.12.3"
  }
 },
 "nbformat": 4,
 "nbformat_minor": 5
}
