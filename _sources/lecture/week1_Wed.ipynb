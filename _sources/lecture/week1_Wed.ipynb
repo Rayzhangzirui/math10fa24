{
 "cells": [
  {
   "cell_type": "code",
   "execution_count": 1,
   "id": "96d4d654",
   "metadata": {},
   "outputs": [],
   "source": [
    "# Lecture Week 1 Wed 10/2"
   ]
  },
  {
   "cell_type": "markdown",
   "id": "8a650199",
   "metadata": {},
   "source": [
    "Announce results for [Guess 1/2 of the average](https://en.wikipedia.org/wiki/Guess_2/3_of_the_average#:~:text=In%20game%20theory%2C%20%22guess%20%E2%81%A0,numbers%20chosen%20by%20all%20players.)\n"
   ]
  },
  {
   "cell_type": "code",
   "execution_count": null,
   "id": "0f7f588a-b49c-4186-b7e1-3386d690bcd2",
   "metadata": {},
   "outputs": [],
   "source": [
    "# create a list of all number in \n",
    "# [1,100] that are divisible by 7\n",
    "# how many of them\n"
   ]
  },
  {
   "cell_type": "code",
   "execution_count": 3,
   "id": "05ce90bf-9694-4522-9365-58d9bd9c1f9c",
   "metadata": {},
   "outputs": [],
   "source": [
    "x = [1,2,3]"
   ]
  },
  {
   "cell_type": "code",
   "execution_count": 4,
   "id": "6b5a145f-9be7-4174-a682-999598367fdb",
   "metadata": {},
   "outputs": [
    {
     "data": {
      "text/plain": [
       "3"
      ]
     },
     "execution_count": 4,
     "metadata": {},
     "output_type": "execute_result"
    }
   ],
   "source": [
    "len(x)"
   ]
  },
  {
   "cell_type": "code",
   "execution_count": 5,
   "id": "6c45273f-3542-4c7d-b4aa-86d6ab229e0b",
   "metadata": {},
   "outputs": [],
   "source": [
    "x.append(4)"
   ]
  },
  {
   "cell_type": "code",
   "execution_count": 6,
   "id": "4b542815-ac5a-494e-a6d5-28690eb7967a",
   "metadata": {},
   "outputs": [
    {
     "data": {
      "text/plain": [
       "[1, 2, 3, 4]"
      ]
     },
     "execution_count": 6,
     "metadata": {},
     "output_type": "execute_result"
    }
   ],
   "source": [
    "x"
   ]
  },
  {
   "cell_type": "code",
   "execution_count": 9,
   "id": "c49db91e-2726-4b4d-a78b-8f921cfb108b",
   "metadata": {},
   "outputs": [
    {
     "name": "stdout",
     "output_type": "stream",
     "text": [
      "[7, 14, 21, 28, 35, 42, 49, 56, 63, 70, 77, 84, 91, 98]\n"
     ]
    }
   ],
   "source": [
    "x = []\n",
    "for i in range(1,101):\n",
    "    if i % 7 == 0:\n",
    "        x.append(i)\n",
    "print(x)"
   ]
  },
  {
   "cell_type": "code",
   "execution_count": 10,
   "id": "1d85ae7a-ff57-4569-bc60-8b4bc2e85194",
   "metadata": {},
   "outputs": [
    {
     "data": {
      "text/plain": [
       "14"
      ]
     },
     "execution_count": 10,
     "metadata": {},
     "output_type": "execute_result"
    }
   ],
   "source": [
    "len(x)"
   ]
  },
  {
   "cell_type": "code",
   "execution_count": 11,
   "id": "7ea6cf92-4a39-436b-9065-550ff9e97c23",
   "metadata": {},
   "outputs": [],
   "source": [
    "divisible_by_7 = [number for number in range(1, 101) if number % 7 == 0]\n"
   ]
  },
  {
   "cell_type": "code",
   "execution_count": 12,
   "id": "c1182e11-7dfa-467b-be68-1e7ee0bc1d73",
   "metadata": {},
   "outputs": [
    {
     "data": {
      "text/plain": [
       "[7, 14, 21, 28, 35, 42, 49, 56, 63, 70, 77, 84, 91, 98]"
      ]
     },
     "execution_count": 12,
     "metadata": {},
     "output_type": "execute_result"
    }
   ],
   "source": [
    "divisible_by_7"
   ]
  },
  {
   "cell_type": "code",
   "execution_count": 14,
   "id": "1afd39df-7755-476c-b42a-a13c9f1452f3",
   "metadata": {},
   "outputs": [],
   "source": [
    "x = [True, 1, 'hello']\n",
    "# what is x[1]"
   ]
  },
  {
   "cell_type": "code",
   "execution_count": 15,
   "id": "e1f34255-db21-4c03-95b9-00bec0104cf4",
   "metadata": {},
   "outputs": [
    {
     "data": {
      "text/plain": [
       "True"
      ]
     },
     "execution_count": 15,
     "metadata": {},
     "output_type": "execute_result"
    }
   ],
   "source": [
    "x[0]"
   ]
  },
  {
   "cell_type": "code",
   "execution_count": 16,
   "id": "7967ff2e-4c65-4643-9d9d-e7829c33f010",
   "metadata": {},
   "outputs": [
    {
     "data": {
      "text/plain": [
       "1"
      ]
     },
     "execution_count": 16,
     "metadata": {},
     "output_type": "execute_result"
    }
   ],
   "source": [
    "x[1]"
   ]
  },
  {
   "cell_type": "code",
   "execution_count": 17,
   "id": "06e46fc2-0ac4-4c5e-9440-6acb68f90916",
   "metadata": {},
   "outputs": [
    {
     "data": {
      "text/plain": [
       "'hello'"
      ]
     },
     "execution_count": 17,
     "metadata": {},
     "output_type": "execute_result"
    }
   ],
   "source": [
    "x[2]"
   ]
  },
  {
   "cell_type": "code",
   "execution_count": 18,
   "id": "5cfb90d1-3da2-432b-93fc-83dd966546b0",
   "metadata": {},
   "outputs": [
    {
     "data": {
      "text/plain": [
       "'hello'"
      ]
     },
     "execution_count": 18,
     "metadata": {},
     "output_type": "execute_result"
    }
   ],
   "source": [
    "x[-1]"
   ]
  },
  {
   "cell_type": "code",
   "execution_count": 19,
   "id": "8ff9e3df-4be9-48a7-9bce-af2ca8fd9a65",
   "metadata": {},
   "outputs": [],
   "source": [
    "x = list(range(0,10))"
   ]
  },
  {
   "cell_type": "code",
   "execution_count": 20,
   "id": "bfd93949-8062-474a-9cdf-2cb1734c088a",
   "metadata": {},
   "outputs": [
    {
     "data": {
      "text/plain": [
       "[0, 1, 2, 3, 4, 5, 6, 7, 8, 9]"
      ]
     },
     "execution_count": 20,
     "metadata": {},
     "output_type": "execute_result"
    }
   ],
   "source": [
    "x"
   ]
  },
  {
   "cell_type": "code",
   "execution_count": 22,
   "id": "202241cf-f32f-4dd7-b684-643245715cb3",
   "metadata": {},
   "outputs": [
    {
     "data": {
      "text/plain": [
       "[1, 3, 5, 7]"
      ]
     },
     "execution_count": 22,
     "metadata": {},
     "output_type": "execute_result"
    }
   ],
   "source": [
    "x[1:9:2]"
   ]
  },
  {
   "cell_type": "code",
   "execution_count": 24,
   "id": "4577b6c9-03bf-46ac-b311-4ec76dc62225",
   "metadata": {},
   "outputs": [
    {
     "data": {
      "text/plain": [
       "[1, 100, 3]"
      ]
     },
     "execution_count": 24,
     "metadata": {},
     "output_type": "execute_result"
    }
   ],
   "source": [
    "a = [1,2,3]\n",
    "b = a\n",
    "b[1] = 100\n",
    "a\n",
    "# what is a"
   ]
  },
  {
   "cell_type": "code",
   "execution_count": 25,
   "id": "6abb65b6-f4aa-496b-b85c-0c0cdd98c919",
   "metadata": {},
   "outputs": [],
   "source": [
    "a.append(4)"
   ]
  },
  {
   "cell_type": "code",
   "execution_count": 26,
   "id": "a066ef2f-bce5-4e06-9a0c-4679a1663333",
   "metadata": {},
   "outputs": [
    {
     "data": {
      "text/plain": [
       "[1, 100, 3, 4]"
      ]
     },
     "execution_count": 26,
     "metadata": {},
     "output_type": "execute_result"
    }
   ],
   "source": [
    "b"
   ]
  },
  {
   "cell_type": "code",
   "execution_count": 28,
   "id": "eefdf8c9-92ef-4d7e-a831-baa4106378f4",
   "metadata": {},
   "outputs": [],
   "source": [
    "def fun(x):\n",
    "    return x + 1"
   ]
  },
  {
   "cell_type": "code",
   "execution_count": 29,
   "id": "60594b99-3793-4fd5-a36a-78edae7123af",
   "metadata": {},
   "outputs": [
    {
     "data": {
      "text/plain": [
       "4"
      ]
     },
     "execution_count": 29,
     "metadata": {},
     "output_type": "execute_result"
    }
   ],
   "source": [
    "fun(3)"
   ]
  },
  {
   "cell_type": "code",
   "execution_count": 30,
   "id": "09e338cd-9bed-4568-834c-00fbb37b0b12",
   "metadata": {},
   "outputs": [],
   "source": [
    "def fun_no_return(x):\n",
    "    y = x + 1"
   ]
  },
  {
   "cell_type": "code",
   "execution_count": 31,
   "id": "75e7ff0c-ace2-4a64-a9fe-5f856ebd2f83",
   "metadata": {},
   "outputs": [
    {
     "name": "stdout",
     "output_type": "stream",
     "text": [
      "None\n"
     ]
    }
   ],
   "source": [
    "print(fun_no_return(2))"
   ]
  }
 ],
 "metadata": {
  "kernelspec": {
   "display_name": "Python 3 (ipykernel)",
   "language": "python",
   "name": "python3"
  },
  "language_info": {
   "codemirror_mode": {
    "name": "ipython",
    "version": 3
   },
   "file_extension": ".py",
   "mimetype": "text/x-python",
   "name": "python",
   "nbconvert_exporter": "python",
   "pygments_lexer": "ipython3",
   "version": "3.12.3"
  }
 },
 "nbformat": 4,
 "nbformat_minor": 5
}
