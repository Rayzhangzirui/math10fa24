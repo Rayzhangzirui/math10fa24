{
 "cells": [
  {
   "cell_type": "markdown",
   "id": "e781d47d",
   "metadata": {},
   "source": [
    "# Lecture Week 5 Mon 10/7"
   ]
  },
  {
   "cell_type": "markdown",
   "id": "0336c9b4",
   "metadata": {},
   "source": [
    "**Poll**\n",
    "\n",
    "Generally speaking, if we had a new feature that highly correlates with an existing feature, is it useful to include it in our linear regression model?"
   ]
  },
  {
   "cell_type": "markdown",
   "id": "472262df",
   "metadata": {},
   "source": [
    "**Poll**\n",
    "\n",
    "Given input x in 1D, output y in 1D. If we use feature \n",
    "\n",
    "$[x, 2x, 2^2x,..., 2^kx]$ ..., how does the model performance changes as we increase k"
   ]
  },
  {
   "cell_type": "markdown",
   "id": "088f1ba0-c228-4289-b8f7-c7a3a93ad301",
   "metadata": {},
   "source": [
    "# Colinearity \n",
    "\n",
    "If two variables are highly correlated, intuitively, we can say that they are measuring the same thing. In the context of linear regression, this is called multicollinearity.\n",
    "\n",
    "Suppose $Y = aX_1$ and $X_2 = bX_1$, then we can write $Y = \\beta_1 X_1 + \\beta_2 X_2$ for any $\\beta_1$  and $\\beta_2$ such that $\\beta_1 + b \\beta_2 = a$.\n",
    "\n",
    "We can see that the coefficients are not unique. \n",
    "\n",
    "This cause a few problems:\n",
    "\n",
    "1. **Interpretation**: it's difficult to interpret the coefficients. Originally, we would say that a one unit increase in $X_1$ would lead to a $\\beta_1$ increase in $Y$. But now, we can't say that, because we can't change $X_1$ without changing $X_2$.\n",
    "\n",
    "2. **Large Variance of the parameter**: Since there could be infinite solutions, there is no guarantee which one the solver will find. Therefore small changes in the data could lead to large changes in the coefficients.\n",
    "\n",
    "3. **Numerical Stability**: Sometimes the solver can't find the solution.\n",
    "\n",
    "However, this does not affect the prediction: even though the coefficients are not unique, the prediction will be the same."
   ]
  },
  {
   "cell_type": "code",
   "execution_count": 2,
   "id": "448ff9b1-e978-492f-b2a5-071855bf7791",
   "metadata": {},
   "outputs": [],
   "source": [
    "import numpy as np\n",
    "from sklearn.linear_model import LinearRegression\n",
    "\n",
    "X = np.random.uniform(0,1,(100,1))\n",
    "\n",
    "# append collinear columns\n",
    "X = np.column_stack((X, X[:,0]*2))\n",
    "y = X[:,0] + np.random.randn(100)\n"
   ]
  },
  {
   "cell_type": "code",
   "execution_count": 3,
   "id": "f3ca7ace-a5f4-4741-be7d-10a65462e5f1",
   "metadata": {},
   "outputs": [
    {
     "data": {
      "text/plain": [
       "array([[0.02493189, 0.04986379],\n",
       "       [0.88987389, 1.77974777],\n",
       "       [0.15536663, 0.31073326],\n",
       "       [0.18403565, 0.36807131],\n",
       "       [0.46053804, 0.92107609],\n",
       "       [0.05566118, 0.11132237],\n",
       "       [0.88793712, 1.77587425],\n",
       "       [0.43906006, 0.87812013],\n",
       "       [0.26654538, 0.53309076],\n",
       "       [0.94660644, 1.89321289],\n",
       "       [0.33099965, 0.6619993 ],\n",
       "       [0.66826138, 1.33652275],\n",
       "       [0.76191481, 1.52382962],\n",
       "       [0.44606353, 0.89212706],\n",
       "       [0.38940682, 0.77881364],\n",
       "       [0.31327139, 0.62654279],\n",
       "       [0.15368506, 0.30737012],\n",
       "       [0.99486966, 1.98973933],\n",
       "       [0.42264476, 0.84528953],\n",
       "       [0.15030903, 0.30061805],\n",
       "       [0.40178419, 0.80356838],\n",
       "       [0.23300085, 0.46600171],\n",
       "       [0.80373163, 1.60746326],\n",
       "       [0.90405667, 1.80811333],\n",
       "       [0.18957645, 0.3791529 ],\n",
       "       [0.187407  , 0.37481401],\n",
       "       [0.19874918, 0.39749836],\n",
       "       [0.84622686, 1.69245373],\n",
       "       [0.07614844, 0.15229687],\n",
       "       [0.57581073, 1.15162146],\n",
       "       [0.27849744, 0.55699487],\n",
       "       [0.45074952, 0.90149903],\n",
       "       [0.90207388, 1.80414776],\n",
       "       [0.66458771, 1.32917542],\n",
       "       [0.91821638, 1.83643277],\n",
       "       [0.30836426, 0.61672852],\n",
       "       [0.97082038, 1.94164076],\n",
       "       [0.01386004, 0.02772008],\n",
       "       [0.00388961, 0.00777922],\n",
       "       [0.27202653, 0.54405305],\n",
       "       [0.93960735, 1.87921469],\n",
       "       [0.29406414, 0.58812828],\n",
       "       [0.99926779, 1.99853558],\n",
       "       [0.59716839, 1.19433678],\n",
       "       [0.78193291, 1.56386582],\n",
       "       [0.29349179, 0.58698357],\n",
       "       [0.23360919, 0.46721838],\n",
       "       [0.45129704, 0.90259408],\n",
       "       [0.90060997, 1.80121993],\n",
       "       [0.37131516, 0.74263033],\n",
       "       [0.11864543, 0.23729086],\n",
       "       [0.91922047, 1.83844093],\n",
       "       [0.84499892, 1.68999783],\n",
       "       [0.93709011, 1.87418023],\n",
       "       [0.9948483 , 1.9896966 ],\n",
       "       [0.3913995 , 0.78279901],\n",
       "       [0.98166644, 1.96333288],\n",
       "       [0.93176551, 1.86353102],\n",
       "       [0.24417953, 0.48835905],\n",
       "       [0.53069928, 1.06139856],\n",
       "       [0.54600943, 1.09201887],\n",
       "       [0.8365131 , 1.67302621],\n",
       "       [0.54935307, 1.09870613],\n",
       "       [0.47455107, 0.94910214],\n",
       "       [0.13477471, 0.26954943],\n",
       "       [0.28010383, 0.56020765],\n",
       "       [0.37534329, 0.75068659],\n",
       "       [0.90228509, 1.80457017],\n",
       "       [0.25429843, 0.50859687],\n",
       "       [0.56475784, 1.12951568],\n",
       "       [0.33253236, 0.66506473],\n",
       "       [0.5646703 , 1.1293406 ],\n",
       "       [0.21257498, 0.42514996],\n",
       "       [0.03980089, 0.07960177],\n",
       "       [0.79893501, 1.59787003],\n",
       "       [0.36339928, 0.72679855],\n",
       "       [0.27878216, 0.55756433],\n",
       "       [0.67216702, 1.34433403],\n",
       "       [0.17829473, 0.35658947],\n",
       "       [0.51643744, 1.03287488],\n",
       "       [0.07402344, 0.14804688],\n",
       "       [0.74711617, 1.49423233],\n",
       "       [0.51660041, 1.03320082],\n",
       "       [0.59097335, 1.18194669],\n",
       "       [0.20100947, 0.40201895],\n",
       "       [0.09759389, 0.19518777],\n",
       "       [0.8477742 , 1.6955484 ],\n",
       "       [0.91859923, 1.83719846],\n",
       "       [0.5338964 , 1.0677928 ],\n",
       "       [0.06509675, 0.1301935 ],\n",
       "       [0.18073189, 0.36146378],\n",
       "       [0.87027108, 1.74054216],\n",
       "       [0.2931549 , 0.5863098 ],\n",
       "       [0.38208096, 0.76416192],\n",
       "       [0.31607139, 0.63214278],\n",
       "       [0.78272203, 1.56544406],\n",
       "       [0.07011386, 0.14022772],\n",
       "       [0.55568562, 1.11137123],\n",
       "       [0.22828128, 0.45656256],\n",
       "       [0.8990487 , 1.79809739]])"
      ]
     },
     "execution_count": 3,
     "metadata": {},
     "output_type": "execute_result"
    }
   ],
   "source": [
    "X"
   ]
  },
  {
   "cell_type": "code",
   "execution_count": 4,
   "id": "635e674c-f5d1-4583-b2de-e4f3008c46bc",
   "metadata": {},
   "outputs": [
    {
     "name": "stdout",
     "output_type": "stream",
     "text": [
      "coefs: [0.20670874 0.41341747], intercept: -0.10402094162564779, score: 0.09417922701371784\n",
      "coefs: [1.03354368], intercept: -0.10402094162564746, score: 0.09417922701371773\n"
     ]
    }
   ],
   "source": [
    "\n",
    "# regression with X0 and X1=2*X0\n",
    "lreg_sklearn = LinearRegression()\n",
    "lreg_sklearn.fit(X,y)\n",
    "score = lreg_sklearn.score(X,y)\n",
    "print(f'coefs: {lreg_sklearn.coef_}, intercept: {lreg_sklearn.intercept_}, score: {score}')\n",
    "\n",
    "\n",
    "# regression with X0\n",
    "lreg_sklearn.fit(X[:,0:1],y)\n",
    "score = lreg_sklearn.score(X[:,0:1],y)\n",
    "print(f'coefs: {lreg_sklearn.coef_}, intercept: {lreg_sklearn.intercept_}, score: {score}')\n",
    "\n"
   ]
  },
  {
   "cell_type": "markdown",
   "id": "5853992d-6bb7-41d6-bc35-032dc87a0b63",
   "metadata": {},
   "source": [
    "# Cross validation"
   ]
  },
  {
   "cell_type": "markdown",
   "id": "515dde62-18ba-44b5-8e59-11ae65a2988b",
   "metadata": {},
   "source": [
    "## Training, Validation, and Testing\n",
    "\n",
    "Note that we have the following separate goals:\n",
    "\n",
    "- **Model selection**: estimate the performance of different models in order to choose the best one.\n",
    "- **Model assessment**: after choosing the best model, estimate its prediction error on new data.\n",
    "\n",
    "If we have plenty of data, we can split it into three sets: training, validation, and test. \n",
    "\n",
    "The training set is used to fit the models. \n",
    "The validation set is used to estimate prediction error, which is used to select the model or tune the hyperparameters. In our example, this is the degree of the polynomial. Notice that in the process, the models \"see\" the validation set.\n",
    "The test set is used for assessment of the generalization error of the final chosen model. This set is never seen by the models. We should not go back and choose the model based on the test set performance.\n",
    "\n",
    "One common way of splitting the data is 60% training, 20% validation, and 20% test.\n"
   ]
  },
  {
   "cell_type": "markdown",
   "id": "cabc8aee-b79d-400f-9fc4-eb0239630cdc",
   "metadata": {},
   "source": [
    "Sometimes people use \"validation\" and \"test\" interchangeably. This is fine if we are only doing only one of the tasks above (model selection or model assessment). However, if we are doing both, we should have two separate sets.\n"
   ]
  },
  {
   "cell_type": "markdown",
   "id": "ed8ca6c2-bd8c-4c76-8467-87e5af3032f6",
   "metadata": {},
   "source": [
    "## Question:\n",
    "\n",
    "Take the penguins dataset. Use the flipper length to predict the body mass. \n",
    "Perform a 5-fold cross-validation. What is the average mean squared error?\n",
    "\n",
    "Feel free Look up the documentation of KFold, google, chatGPT, or discuss with your classmates."
   ]
  },
  {
   "cell_type": "code",
   "execution_count": 5,
   "id": "dbfb011b-4147-4dbc-96aa-9f243db747a6",
   "metadata": {},
   "outputs": [],
   "source": [
    "# example from scikit-learn\n",
    "# https://scikit-learn.org/dev/modules/generated/sklearn.model_selection.KFold.html\n",
    "from sklearn.model_selection import KFold\n",
    "X = np.array([[1, 2], [3, 4], [1, 2], [3, 4]])\n",
    "y = np.array([1, 2, 3, 4])"
   ]
  },
  {
   "cell_type": "code",
   "execution_count": 6,
   "id": "b7ce801b-99c6-4f0c-886a-90c122e0d0ad",
   "metadata": {},
   "outputs": [],
   "source": [
    "kf = KFold(n_splits=4)"
   ]
  },
  {
   "cell_type": "code",
   "execution_count": 7,
   "id": "ef373716-2098-402b-b3be-2e255d59f61b",
   "metadata": {},
   "outputs": [
    {
     "data": {
      "text/plain": [
       "sklearn.model_selection._split.KFold"
      ]
     },
     "execution_count": 7,
     "metadata": {},
     "output_type": "execute_result"
    }
   ],
   "source": [
    "type(kf)\n",
    "#"
   ]
  },
  {
   "cell_type": "code",
   "execution_count": 8,
   "id": "1811d780-82f3-47e0-8c8f-d0962cf749fa",
   "metadata": {},
   "outputs": [
    {
     "data": {
      "text/plain": [
       "generator"
      ]
     },
     "execution_count": 8,
     "metadata": {},
     "output_type": "execute_result"
    }
   ],
   "source": [
    "type(kf.split(X))\n",
    "# This is an object that is similar to the range object\n",
    "# We can iterate over it"
   ]
  },
  {
   "cell_type": "code",
   "execution_count": 9,
   "id": "372a9147-3f12-4a24-bea4-f33cae0bace4",
   "metadata": {},
   "outputs": [
    {
     "name": "stdout",
     "output_type": "stream",
     "text": [
      "  Train: index=[1 2 3]\n",
      "  Test:  index=[0]\n",
      "  Train: index=[0 2 3]\n",
      "  Test:  index=[1]\n",
      "  Train: index=[0 1 3]\n",
      "  Test:  index=[2]\n",
      "  Train: index=[0 1 2]\n",
      "  Test:  index=[3]\n"
     ]
    }
   ],
   "source": [
    "# get the indices of the train and test sets\n",
    "for train_index, test_index in kf.split(X):\n",
    "    print(f\"  Train: index={train_index}\")\n",
    "    print(f\"  Test:  index={test_index}\")"
   ]
  },
  {
   "cell_type": "code",
   "execution_count": 11,
   "id": "1777e692-1cc4-43e1-88d8-4f18460b5c0c",
   "metadata": {},
   "outputs": [
    {
     "name": "stdout",
     "output_type": "stream",
     "text": [
      "  i: 0\n",
      "  Train: index=[1 2 3]\n",
      "  Test:  index=[0]\n",
      "  i: 1\n",
      "  Train: index=[0 2 3]\n",
      "  Test:  index=[1]\n",
      "  i: 2\n",
      "  Train: index=[0 1 3]\n",
      "  Test:  index=[2]\n",
      "  i: 3\n",
      "  Train: index=[0 1 2]\n",
      "  Test:  index=[3]\n"
     ]
    }
   ],
   "source": [
    "# using enumerate to get the counter i\n",
    "for i, (train_index, test_index) in enumerate(kf.split(X)):\n",
    "    print(f\"  i: {i}\")\n",
    "    print(f\"  Train: index={train_index}\")\n",
    "    print(f\"  Test:  index={test_index}\")"
   ]
  },
  {
   "cell_type": "code",
   "execution_count": 25,
   "id": "fc16eb9e-345f-482a-86e1-bb12e6da99e6",
   "metadata": {},
   "outputs": [
    {
     "name": "stdout",
     "output_type": "stream",
     "text": [
      "Fold 0 R^2 score: 0.725084353204537\n",
      "Fold 1 R^2 score: 0.6993225273807326\n",
      "Fold 2 R^2 score: 0.7895360534716703\n",
      "Fold 3 R^2 score: 0.7782229609972658\n",
      "Fold 4 R^2 score: 0.794602971686194\n",
      "Mean R^2 score: 0.75735377334808\n"
     ]
    }
   ],
   "source": [
    "import numpy as np\n",
    "import seaborn as sns\n",
    "import pandas as pd\n",
    "from sklearn.linear_model import LinearRegression\n",
    "from sklearn.model_selection import KFold\n",
    "\n",
    "# Load the Penguins dataset\n",
    "df = sns.load_dataset('penguins')\n",
    "df.dropna(inplace=True)  # Remove missing values\n",
    "\n",
    "# features = ['bill_length_mm', 'bill_depth_mm','flipper_length_mm']\n",
    "features = ['flipper_length_mm']\n",
    "target = ['body_mass_g']  \n",
    "\n",
    "# Initialize linear regression model\n",
    "model = LinearRegression()\n",
    "\n",
    "kf = KFold(n_splits=5, shuffle=True, random_state=1)\n",
    "\n",
    "\n",
    "all_scores = []\n",
    "\n",
    "for i, (train_index, test_index) in enumerate(kf.split(df)):\n",
    "    X_train = df[features].iloc[train_index] \n",
    "    X_test  = df[features].iloc[test_index]\n",
    "\n",
    "    y_train = df[target].iloc[train_index]\n",
    "    y_test = df[target].iloc[test_index]\n",
    "\n",
    "    model.fit(X_train, y_train)\n",
    "    score = model.score(X_test, y_test)\n",
    "\n",
    "    all_scores.append(score)\n",
    "\n",
    "    print(f\"Fold {i} R^2 score:\", score)\n",
    "\n",
    "print(f\"Mean R^2 score: {np.mean(all_scores)}\")"
   ]
  }
 ],
 "metadata": {
  "kernelspec": {
   "display_name": "math10",
   "language": "python",
   "name": "python3"
  },
  "language_info": {
   "codemirror_mode": {
    "name": "ipython",
    "version": 3
   },
   "file_extension": ".py",
   "mimetype": "text/x-python",
   "name": "python",
   "nbconvert_exporter": "python",
   "pygments_lexer": "ipython3",
   "version": "3.12.3"
  }
 },
 "nbformat": 4,
 "nbformat_minor": 5
}
