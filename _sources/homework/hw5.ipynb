{
 "cells": [
  {
   "cell_type": "markdown",
   "metadata": {},
   "source": [
    "# Homework 5 (Due 11/1/2024 at 11:59pm)\n"
   ]
  },
  {
   "cell_type": "markdown",
   "metadata": {},
   "source": [
    "\n",
    "## Name:\n",
    "\n",
    "## ID:\n",
    "\n",
    "**Submission instruction:**\n",
    "- Download the file as .ipynb (see top right corner on the webpage).\n",
    "- Write your name and ID in the field above.\n",
    "- Answer the questions in the .ipynb file in either markdown or code cells.\n",
    "- Before submission, make sure to rerun all cells by clicking `Kernel` -> `Restart & Run All` and check all the outputs.\n",
    "- Upload the .ipynb file to Gradescope."
   ]
  },
  {
   "cell_type": "markdown",
   "metadata": {},
   "source": [
    "**Q1** Linear regression on exponential growth\n",
    "\n",
    "Suppose we want to measure the growth of a population of bacteria. We culture the bacteria in a test tube.\n",
    "We measure the volume of the cell culture at various times (hr) and obtain the following dataframe:\n"
   ]
  },
  {
   "cell_type": "code",
   "execution_count": 5,
   "metadata": {},
   "outputs": [
    {
     "name": "stdout",
     "output_type": "stream",
     "text": [
      "   time  Volume\n",
      "0   0.0    0.37\n",
      "1   1.5    1.63\n",
      "2   5.0    2.40\n",
      "3   9.0    6.20\n",
      "4  10.0   10.66\n"
     ]
    }
   ],
   "source": [
    "import pandas as pd\n",
    "import seaborn as sns\n",
    "import matplotlib.pyplot as plt\n",
    "\n",
    "df_bac = pd.DataFrame({'time': [0, 1.5, 5, 9, 10], 'Volume':[0.37, 1.63, 2.4, 6.2, 10.66]})\n",
    "print(df_bac)"
   ]
  },
  {
   "cell_type": "markdown",
   "metadata": {},
   "source": [
    "(1) Use linear regression to fit the data. Compute the $R^2$. Plot the data and the fitted line on the same figure. "
   ]
  },
  {
   "cell_type": "code",
   "execution_count": null,
   "id": "a6299f26",
   "metadata": {},
   "outputs": [],
   "source": [
    "# code here"
   ]
  },
  {
   "cell_type": "markdown",
   "metadata": {},
   "source": [
    "(2) We know that when nutrients are abundant, the bacteria grow exponentially. Therefore, a better model might be\n",
    "\n",
    "$$ y = a e^{bx} $$\n",
    "\n",
    "where $y$ is the volume of the bacteria culture and $x$ is the time. \n",
    "\n",
    "Can we turn this into a linear regression problem?\n",
    "\n",
    "Hint: Take the natural logarithm of both sides of the equation."
   ]
  },
  {
   "cell_type": "markdown",
   "id": "8e53dae3",
   "metadata": {},
   "outputs": [],
   "source": [
    "*Answer here*"
   ]
  },
  {
   "cell_type": "markdown",
   "metadata": {},
   "source": [
    "(3) After the transformation, find the optimal values of $a$ and $b$.  Compute the $R^2$. Plot the data and the fitted curve in the same figure. Is it better than the linear model?"
   ]
  },
  {
   "cell_type": "code",
   "execution_count": null,
   "id": "b2222c54",
   "metadata": {},
   "outputs": [],
   "source": [
    "# code here"
   ]
  },
  {
   "cell_type": "markdown",
   "metadata": {},
   "source": [
    "**Q2** Multiple linear regression\n",
    "\n",
    "In this problem, we would like to predict the `body_mass_g` of a penguin based on the other features in the dataset."
   ]
  },
  {
   "cell_type": "code",
   "execution_count": 8,
   "metadata": {},
   "outputs": [],
   "source": [
    "# Do not modify this cell\n",
    "df = sns.load_dataset(\"penguins\")\n",
    "df.dropna(inplace=True)\n",
    "\n",
    "from sklearn.model_selection import train_test_split\n",
    "# the stratify parameter makes sure that the train and test sets have the same proportion of species\n",
    "df_train, df_test = train_test_split(df, test_size=0.5, random_state=0, stratify=df['species'])"
   ]
  },
  {
   "cell_type": "markdown",
   "metadata": {},
   "source": [
    "In this exercise, Let's consider what is the best subset of features to predict `body_mass_g`. This is called the best subset selection problem.\n",
    "\n",
    "Since we have 3 features, we can fit 7 models, each with a different subset of features:\n",
    "\n",
    "- Model 1: `bill_length_mm`\n",
    "- Model 2: `bill_depth_mm`\n",
    "- Model 3: `flipper_length_mm`\n",
    "- Model 4: `bill_length_mm`, `bill_depth_mm`\n",
    "- Model 5: `bill_length_mm`, `flipper_length_mm`\n",
    "- Model 6: `bill_depth_mm`, `flipper_length_mm`\n",
    "- Model 7: `bill_length_mm`, `bill_depth_mm`, `flipper_length_mm`\n",
    "\n",
    "For each model, fit a linear regression model and compute the $R^2$ on the training and testing data. Which model has the best $R^2$ on the testing data? Is the best model the one with the most features?"
   ]
  },
  {
   "cell_type": "code",
   "execution_count": 9,
   "metadata": {},
   "outputs": [],
   "source": [
    "# Feel free to use this variable. \n",
    "# all_subsets = [ ['bill_length_mm'], ['bill_depth_mm'], ['flipper_length_mm'], \n",
    "#                 ['bill_length_mm', 'bill_depth_mm'], ['bill_length_mm', 'flipper_length_mm'], ['bill_depth_mm', 'flipper_length_mm'], \n",
    "#                 ['bill_length_mm', 'bill_depth_mm', 'flipper_length_mm']]\n",
    "# Alternatively, you can check out itertools.combinations (part of the Python standard library) to generate all combinations of a list"
   ]
  },
  {
   "cell_type": "code",
   "execution_count": null,
   "id": "e68a0f64",
   "metadata": {},
   "outputs": [],
   "source": [
    "# code here"
   ]
  },
  {
   "cell_type": "markdown",
   "metadata": {},
   "source": [
    "**Q3** Working with categorical variables\n",
    "\n",
    "Let's try to make use of the `species` feature in predicting the `body_mass_g`"
   ]
  },
  {
   "cell_type": "code",
   "execution_count": 11,
   "metadata": {},
   "outputs": [],
   "source": [
    "# Do not modify this cell\n",
    "df_penguins = sns.load_dataset(\"penguins\")\n",
    "df_penguins.dropna(inplace=True)"
   ]
  },
  {
   "cell_type": "markdown",
   "metadata": {},
   "source": [
    "We can think of two different methods to encode the categorical feature:\n",
    "\n",
    "1. Method 1: Using integer 1, 2, 3 ...\n",
    "\n",
    "2. Method 2: Using dummy variables such as `is_category_A`, where `is_category_A` is 1 if the category is A, 0 otherwise.\n",
    "\n",
    "In this problem, we will compare the two methods.\n",
    "\n",
    "For our dataset, the species are `['Adelie', 'Chinstrap', 'Gentoo']`. \n",
    "\n",
    "Let's generate a few new features in `df_penguins`:\n",
    "\n",
    "- `code` is 0 if the species is Adelie, 1 if the species is Chinstrap, 2 if the species is Gentoo\n",
    "\n",
    "- `is_Adelie` is 1 if the species is Adelie, 0 otherwise\n",
    "\n",
    "- `is_Chinstrap` is 1 if the species is Chinstrap, 0 otherwise\n",
    "\n",
    "The `is_Adelie` and `is_Chinstrap` features are called **dummy variables**.\n",
    "\n"
   ]
  },
  {
   "cell_type": "code",
   "execution_count": null,
   "id": "4af406d4",
   "metadata": {},
   "outputs": [],
   "source": [
    "# code here"
   ]
  },
  {
   "cell_type": "markdown",
   "metadata": {},
   "source": [
    "After generating these new features, split the new augmented dataframe into training and testing sets use the following command"
   ]
  },
  {
   "cell_type": "code",
   "execution_count": 13,
   "metadata": {},
   "outputs": [],
   "source": [
    "# Do not modify this cell\n",
    "df_penguins_train, df_penguins_test = train_test_split(df_penguins, test_size=0.5, random_state=0, stratify=df_penguins['species'])"
   ]
  },
  {
   "cell_type": "markdown",
   "metadata": {},
   "source": [
    "(2) Compare the performance using different combinations of features. Compute the $R^2$ on training and testing sets. Which one is the best?\n",
    "\n",
    "- Baseline: `['bill_length_mm', 'bill_depth_mm', 'flipper_length_mm']`\n",
    "\n",
    "- Use code: `['bill_length_mm', 'bill_depth_mm', 'flipper_length_mm', 'code']`\n",
    "\n",
    "- Use dummy: `['bill_length_mm', 'bill_depth_mm', 'flipper_length_mm', 'is_Adelie', 'is_Chinstrap']`"
   ]
  },
  {
   "cell_type": "code",
   "execution_count": null,
   "id": "9ef368c5",
   "metadata": {},
   "outputs": [],
   "source": [
    "# code here"
   ]
  }
 ],
 "metadata": {
  "kernelspec": {
   "display_name": "math10",
   "language": "python",
   "name": "python3"
  },
  "language_info": {
   "codemirror_mode": {
    "name": "ipython",
    "version": 3
   },
   "file_extension": ".py",
   "mimetype": "text/x-python",
   "name": "python",
   "nbconvert_exporter": "python",
   "pygments_lexer": "ipython3",
   "version": "3.12.3"
  }
 },
 "nbformat": 4,
 "nbformat_minor": 2
}
