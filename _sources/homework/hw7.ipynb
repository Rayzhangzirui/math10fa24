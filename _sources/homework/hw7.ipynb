{
 "cells": [
  {
   "cell_type": "markdown",
   "metadata": {},
   "source": [
    "# Homework 7 (Due 11/25/2024 at 11:59pm)\n"
   ]
  },
  {
   "cell_type": "markdown",
   "metadata": {},
   "source": [
    "\n",
    "## Name:\n",
    "\n",
    "## ID:\n",
    "\n",
    "**Submission instruction:**\n",
    "- Download the file as .ipynb (see top right corner on the webpage).\n",
    "- Write your name and ID in the field above.\n",
    "- Answer the questions in the .ipynb file in either markdown or code cells.\n",
    "- Before submission, make sure to rerun all cells by clicking `Kernel` -> `Restart & Run All` and check all the outputs.\n",
    "- Upload the .ipynb file to Gradescope."
   ]
  },
  {
   "cell_type": "markdown",
   "metadata": {},
   "source": [
    "**Q1**\n",
    "\n",
    "Use the multiclass logistic regression model to classify the penguins dataset.\n",
    "\n",
    "Use the features `bill_length_mm`, `bill_depth_mm` to predict the species.\n"
   ]
  },
  {
   "cell_type": "markdown",
   "metadata": {},
   "source": [
    "(1) Load the data. Remove missing value. Standardize the features."
   ]
  },
  {
   "cell_type": "code",
   "execution_count": null,
   "id": "5e076d45",
   "metadata": {},
   "outputs": [],
   "source": [
    "# code here"
   ]
  },
  {
   "cell_type": "markdown",
   "metadata": {},
   "source": [
    "(2) Split the data 50:50 into a training set and a test set. In the`train_test_split` function,\n",
    "use `stratified` sampling, so that the proportion of different species is the same in the training set and the test set. Set `random_state=0` for reproducibility.\n",
    "\n"
   ]
  },
  {
   "cell_type": "code",
   "execution_count": null,
   "id": "a6da1f29",
   "metadata": {},
   "outputs": [],
   "source": [
    "# code here"
   ]
  },
  {
   "cell_type": "markdown",
   "metadata": {},
   "source": [
    "(3) Look at the documentation of `LogisticRegression` in `sklearn`. Notice that the default is to use L2 regularization as in ridge regression. \n",
    "\n",
    "Here, let's fit a multiclass logistic regression model **without regularization** on the training set. Report the training and testing accuracy."
   ]
  },
  {
   "cell_type": "code",
   "execution_count": null,
   "id": "44c8429b",
   "metadata": {},
   "outputs": [],
   "source": [
    "# code here"
   ]
  },
  {
   "cell_type": "markdown",
   "metadata": {},
   "source": [
    "(4) Visualize the confusion matrix on the test set. "
   ]
  },
  {
   "cell_type": "code",
   "execution_count": null,
   "id": "80e58a1c",
   "metadata": {},
   "outputs": [],
   "source": [
    "# code here"
   ]
  },
  {
   "cell_type": "markdown",
   "metadata": {},
   "source": [
    "\n",
    "(5) Use `DecisionBoundaryDisplay` to visualize the decision boundaries and the test set. The decision boundaries are obtained from the trained classifier (using training dataset). The scatter plot should show the data points from the test set.\n"
   ]
  },
  {
   "cell_type": "code",
   "execution_count": null,
   "id": "7fc12297",
   "metadata": {},
   "outputs": [],
   "source": [
    "# code here"
   ]
  },
  {
   "cell_type": "markdown",
   "metadata": {},
   "source": [
    "Q2. Continue from Q1 (use the same training and testing set)\n",
    "\n",
    "This time, let's use kNN classifier to classify the species using `bill_length_mm`, `bill_depth_mm`.\n",
    "\n",
    "(1) Plot the training and testing accuracy for k = 1, 2, 3, ..., 100. That is, for each k, fit a kNN classifier on the training set and compute the training and testing accuracy. Plot the training and testing accuracy as a function of k."
   ]
  },
  {
   "cell_type": "code",
   "execution_count": null,
   "id": "b41f0170",
   "metadata": {},
   "outputs": [],
   "source": [
    "# code here"
   ]
  },
  {
   "cell_type": "markdown",
   "metadata": {},
   "source": [
    "(2) Find the best k from (1). Fit the kNN classifier with the best k on the testing set. Visualize the decision boundaries and the testing set.\n"
   ]
  },
  {
   "cell_type": "code",
   "execution_count": null,
   "id": "03d1180b",
   "metadata": {},
   "outputs": [],
   "source": [
    "# code here"
   ]
  }
 ],
 "metadata": {
  "kernelspec": {
   "display_name": "math10",
   "language": "python",
   "name": "python3"
  },
  "language_info": {
   "codemirror_mode": {
    "name": "ipython",
    "version": 3
   },
   "file_extension": ".py",
   "mimetype": "text/x-python",
   "name": "python",
   "nbconvert_exporter": "python",
   "pygments_lexer": "ipython3",
   "version": "3.12.2"
  }
 },
 "nbformat": 4,
 "nbformat_minor": 2
}
