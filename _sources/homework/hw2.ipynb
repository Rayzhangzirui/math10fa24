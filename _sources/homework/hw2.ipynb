{
 "cells": [
  {
   "cell_type": "markdown",
   "id": "cd980a3d",
   "metadata": {},
   "source": [
    "# Homework 2 (Due 11/11/2024 at 11:59pm)"
   ]
  },
  {
   "cell_type": "markdown",
   "id": "37691194",
   "metadata": {},
   "source": [
    "\n",
    "## Name:\n",
    "\n",
    "## ID:\n",
    "\n",
    "**Submission instruction:**\n",
    "- Download the file as .ipynb (see top right corner on the webpage).\n",
    "- Write your name and ID in the field above.\n",
    "- Answer the questions in the .ipynb file in either markdown or code cells.\n",
    "- Before submission, make sure to rerun all cells by clicking `Kernel` -> `Restart & Run All` and check all the outputs.\n",
    "- Upload the .ipynb file to Gradescope."
   ]
  },
  {
   "cell_type": "markdown",
   "id": "a876e123",
   "metadata": {},
   "source": [
    "**Q1** Fibonacci sequence\n",
    "\n",
    "\n",
    "**(1)**. Create a markdown cell below, write down the recurrence relation for the [Fibonacci sequence](https://en.wikipedia.org/wiki/Fibonacci_sequence)"
   ]
  },
  {
   "cell_type": "markdown",
   "id": "c23962a7",
   "metadata": {},
   "source": [
    "*Answer here*"
   ]
  },
  {
   "cell_type": "markdown",
   "id": "0ea79884",
   "metadata": {},
   "source": [
    "**(2)** Write a function, ``myfibo(n)``, using a loop, that returns the n-th Fibonacci number. \n",
    "Show your solution is correct by output the first 10 Fibonacci numbers."
   ]
  },
  {
   "cell_type": "code",
   "execution_count": null,
   "id": "308f3237",
   "metadata": {},
   "outputs": [],
   "source": [
    "# code here"
   ]
  },
  {
   "cell_type": "markdown",
   "id": "b57bfd24",
   "metadata": {},
   "source": [
    "**(3)** Write a function, ``myfibo_rec(n)``, using recursion, that returns the n-th Fibonacci number."
   ]
  },
  {
   "cell_type": "code",
   "execution_count": null,
   "id": "498d994e",
   "metadata": {},
   "outputs": [],
   "source": [
    "# code here"
   ]
  },
  {
   "cell_type": "markdown",
   "id": "ff54ec81",
   "metadata": {},
   "source": [
    "**(4) [Extra, not graded]** Compare the time it takes to run ``myfibo(20)`` and ``myfibo_rec(20)``. Which one is faster? Why?"
   ]
  },
  {
   "cell_type": "code",
   "execution_count": null,
   "id": "6d8d594b",
   "metadata": {},
   "outputs": [],
   "source": [
    "%%timeit\n",
    "# run the following code to check the time, %%timeit will run the code multiple times and give you the average time it took to run the code \n",
    "myfibo(20)"
   ]
  },
  {
   "cell_type": "code",
   "execution_count": null,
   "id": "8e01fb19",
   "metadata": {},
   "outputs": [],
   "source": [
    "%%timeit \n",
    "myfibo_rec(20)\n"
   ]
  },
  {
   "cell_type": "markdown",
   "id": "3fd7040d",
   "metadata": {},
   "source": [
    "*Answer here*"
   ]
  },
  {
   "cell_type": "markdown",
   "id": "cafa8882",
   "metadata": {},
   "source": [
    "**Q2** Working with list\n",
    "\n",
    "**(1)** Define a function ``my_cumulative_sum(x)``, which take a list of numbers ``x``, and modify ``x``, so that the modified list is the list of cumulative sum of the original list: \n",
    "\n",
    "If the original list is [$x_0$, $x_1$, $x_2$, ...], then the modified list is [$x_0$, $x_0+x_1$, $x_0+x_1+x_2$, ...].\n",
    "\n",
    "Your function should only use a single for-loop.\n",
    "\n",
    "For example \n",
    "\n",
    "```\n",
    "x = [1,1,1]\n",
    "\n",
    "my_cumulative_sum(x)\n",
    "\n",
    "print(x)\n",
    "```\n",
    "\n",
    "produce ``[1,2,3]``\n",
    "\n",
    "Test your function with input ```[1,2,3,4]```"
   ]
  },
  {
   "cell_type": "code",
   "execution_count": null,
   "id": "46609de9",
   "metadata": {},
   "outputs": [],
   "source": [
    "# code here"
   ]
  },
  {
   "cell_type": "markdown",
   "id": "a0313c00",
   "metadata": {},
   "source": [
    "**(2)**\n",
    "\n",
    "Generate a list of numbers between 1 and 100 that exclude (1) multiples of 7 and (2) numbers that ends with 7\n",
    "\n",
    "For example, 7, 14, 17, 21, 27, 28, .. are excluded.\n",
    "\n",
    "Do not use \"outer for-loop\". you can use list comprehension.\n",
    "\n",
    "Hint: you might need to convert between integer and string.\n",
    "\n",
    "Hint: you can define a helper function.\n",
    "\n"
   ]
  },
  {
   "cell_type": "code",
   "execution_count": null,
   "id": "76f0f305",
   "metadata": {},
   "outputs": [],
   "source": [
    "# code here"
   ]
  },
  {
   "cell_type": "markdown",
   "id": "8647d0ba",
   "metadata": {},
   "source": [
    "**(3)** \n",
    "\n",
    "Sort the previous list in \"increasing order\",  in term of the absolute distance to the number 50. No need to break tie. For example, if the list is [48,50,51], the sorted list should be [50,51,48]. Do it in one-line. \n",
    "\n",
    "Hint: use list comprehension, and the built-in function ``sorted`` or ``sort``, and lambda function."
   ]
  },
  {
   "cell_type": "code",
   "execution_count": null,
   "id": "a6e720a4",
   "metadata": {},
   "outputs": [],
   "source": [
    "# code here"
   ]
  },
  {
   "cell_type": "markdown",
   "id": "98e104b6",
   "metadata": {},
   "source": [
    "**Q3** Implement a `Rectangle` class with the following attributes and methods:\n",
    "- Attributes: `width`, `height`\n",
    "- Methods: \n",
    "    - `__init__(self, width, height)`: initialize the width and height of the rectangle\n",
    "    - `area(self)`: return the area of the rectangle\n",
    "    - `smaller_than(self, rec)`: return True if the area of the rectangle is smaller than the area of another rectange object `rec`, False otherwise\n",
    "    - `resize(self, c)`: resize the rectangle, where `c` is a scaling factor. For example, if `c=2`, the width and height of the rectangle will be doubled. If `c=0.5`, the width and height of the rectangle will be halved.\n",
    "    - If `rec` is a Rectangle object, `print(rec)` should print the `(width,height)` of the rectangle.\n",
    "    - (Challenge, not graded) overload the '<' operator so that `rec1 < rec2` returns True if the area of rec1 is less than the area of rec2, False otherwise.\n",
    "\n"
   ]
  },
  {
   "cell_type": "markdown",
   "id": "c68c3734",
   "metadata": {},
   "source": [
    "**(1)** Define your class here"
   ]
  },
  {
   "cell_type": "code",
   "execution_count": null,
   "id": "8389d740",
   "metadata": {},
   "outputs": [],
   "source": [
    "# code here"
   ]
  },
  {
   "cell_type": "markdown",
   "id": "cf04ab73",
   "metadata": {},
   "source": [
    "**(2)** Use examples to demonstrate that the methods in your class work as expected."
   ]
  },
  {
   "cell_type": "code",
   "execution_count": null,
   "id": "f5e238e5",
   "metadata": {},
   "outputs": [],
   "source": [
    "# code here\n"
   ]
  },
  {
   "cell_type": "markdown",
   "id": "4d40e955",
   "metadata": {},
   "source": [
    "**Q4 [Extra, not graded]** Two sum problem\n",
    "\n",
    "The problem is from [Leetcode](https://leetcode.com/problems/two-sum/), which is a website for practicing coding problems.\n",
    "\n",
    "Given an array of integers ``nums`` and an integer ``target``, return indices of the two numbers such that they add up to target. You may assume that each input would have exactly one solution, and you may not use the same element twice. You can return the answer in any order. \n",
    "\n",
    "Example 1:\n",
    "> Input: nums = [2,7,11,15], target = 9\n",
    ">\n",
    "> Output: [0,1]\n",
    ">\n",
    "> Explanation: Because nums[0] + nums[1] == 9, we return [0, 1].\n",
    "\n",
    "Example 2:\n",
    "> Input: nums = [3,2,4], target = 6\n",
    "> \n",
    "> Output: [1,2]\n",
    "\n",
    "Example 3:\n",
    "> Input: nums = [3,3], target = 6\n",
    "> \n",
    "> Output: [0,1]"
   ]
  },
  {
   "cell_type": "code",
   "execution_count": null,
   "id": "f9a08327",
   "metadata": {},
   "outputs": [],
   "source": [
    "# code here"
   ]
  }
 ],
 "metadata": {
  "kernelspec": {
   "display_name": "Python 3 (ipykernel)",
   "language": "python",
   "name": "python3"
  },
  "language_info": {
   "codemirror_mode": {
    "name": "ipython",
    "version": 3
   },
   "file_extension": ".py",
   "mimetype": "text/x-python",
   "name": "python",
   "nbconvert_exporter": "python",
   "pygments_lexer": "ipython3",
   "version": "3.12.3"
  }
 },
 "nbformat": 4,
 "nbformat_minor": 5
}
