{
 "cells": [
  {
   "cell_type": "markdown",
   "metadata": {},
   "source": [
    "# Homework 1 (Due 4/4/2024 at 11:59pm)"
   ]
  },
  {
   "cell_type": "markdown",
   "metadata": {},
   "source": [
    "Name:\n",
    "\n",
    "ID:"
   ]
  },
  {
   "cell_type": "markdown",
   "metadata": {},
   "source": [
    "This homework prepares you for the submission workflow in this course.\n",
    "\n",
    "**Submission instruction:**\n",
    "- Download the file as .ipynb (see top right corner on the webpage).\n",
    "- Answer the questions in the .ipynb file.\n",
    "- Before submission, make sure to rerun all cells by clicking `Kernel` -> `Restart & Run All` and check all the outputs.\n",
    "- Upload the .ipynb file to Gradescope."
   ]
  },
  {
   "cell_type": "markdown",
   "metadata": {},
   "source": [
    "### Q1\n",
    "\n",
    "Formatting Juptyer Notebook\n",
    "\n",
    "- Format the name and ID (under the title) as level 2 heading. See [Headings in Markdown](https://www.markdownguide.org/basic-syntax/#headings)\n",
    "\n",
    "Refer to the wiki page https://en.wikipedia.org/wiki/Fundamental_theorem_of_calculus \n",
    "\n",
    "- Write \"Fundamental Theorem of Calculus\" in bold font. See [Emphasis in Markdown](https://www.markdownguide.org/basic-syntax/#emphasis)\n",
    "\n",
    "- Type the theorem (wiki page - Formal statements - First part) in markdown. Use latex to write the mathematical expression. See [writing math expressions](https://docs.github.com/en/get-started/writing-on-github/working-with-advanced-formatting/writing-mathematical-expressions).\n",
    "\n",
    "\n"
   ]
  },
  {
   "cell_type": "markdown",
   "metadata": {},
   "source": []
  },
  {
   "cell_type": "markdown",
   "metadata": {},
   "source": [
    "### Q2 \n",
    "We will use the pandas library in this course.\n",
    "\n",
    "If pandas is not installed, install it using the following command in a code cell:\n",
    "\n",
    "`%conda install pandas`\n",
    "\n",
    "or \n",
    "\n",
    "`%pip install pandas`\n",
    "\n",
    "Check if pandas is installed by running the following code cell. If it is not installed, an error will be raised.\n"
   ]
  },
  {
   "cell_type": "code",
   "execution_count": 7,
   "metadata": {},
   "outputs": [],
   "source": [
    "import pandas as pd"
   ]
  },
  {
   "cell_type": "markdown",
   "metadata": {},
   "source": [
    "### Q3\n",
    "\n",
    "Download the [penguins dataset](https://github.com/mwaskom/seaborn-data/blob/master/penguins.csv) from the internet. We will read the dataset into a pandas dataframe.\n",
    "- Put the penguins.csv file in the same directory as the notebook\n",
    "- Otherwise you need to specify the path to the file e.g. ``pd.read_csv('/path/to/penguins.csv')``\n",
    "- If you're using cloud-based Jupyter notebook, you need to upload the dataset to the notebook environment.\n",
    "\n",
    "Run the following code cell to load the dataset into a pandas dataframe. If successful, a table will be displayed.\n",
    "\n",
    "\n",
    "Reference: how to get the path of a file [on Mac](https://macpaw.com/how-to/copy-file-path-mac), [on Windows](https://www.wikihow.com/Find-a-File%27s-Path-on-Windows)"
   ]
  },
  {
   "cell_type": "code",
   "execution_count": 11,
   "metadata": {},
   "outputs": [],
   "source": [
    "# you can get the path of the current directory where the notebook is located by using the following command\n",
    "# !pwd"
   ]
  },
  {
   "cell_type": "code",
   "execution_count": null,
   "metadata": {},
   "outputs": [],
   "source": [
    "import pandas as pd\n",
    "df = pd.read_csv('penguins.csv')\n",
    "df.head()"
   ]
  },
  {
   "cell_type": "markdown",
   "metadata": {},
   "source": [
    "### Q4 \n",
    "\n",
    "We will use some libraries for plotting, such as matplotlib and seaborn.\n",
    "\n",
    "If seaborn is not installed, install it using the following command in a code cell:\n",
    "\n",
    "`%conda install seaborn`\n",
    "\n",
    "or \n",
    "\n",
    "`%pip install seaborn`\n",
    "\n",
    "Check if seaborn is installed by running the following code cell. If it is not installed, an error will be raised. If successful, a [plot](https://seaborn.pydata.org/examples/errorband_lineplots.html) will be displayed.\n"
   ]
  },
  {
   "cell_type": "code",
   "execution_count": null,
   "metadata": {},
   "outputs": [],
   "source": [
    "import seaborn as sns\n",
    "\n",
    "# Load an example dataset with long-form data\n",
    "fmri = sns.load_dataset(\"fmri\")\n",
    "\n",
    "# Plot the responses for different events and regions\n",
    "sns.lineplot(x=\"timepoint\", y=\"signal\",\n",
    "             hue=\"region\", style=\"event\",\n",
    "             data=fmri)"
   ]
  }
 ],
 "metadata": {
  "kernelspec": {
   "display_name": "math10",
   "language": "python",
   "name": "python3"
  },
  "language_info": {
   "codemirror_mode": {
    "name": "ipython",
    "version": 3
   },
   "file_extension": ".py",
   "mimetype": "text/x-python",
   "name": "python",
   "nbconvert_exporter": "python",
   "pygments_lexer": "ipython3",
   "version": "3.12.3"
  }
 },
 "nbformat": 4,
 "nbformat_minor": 2
}
