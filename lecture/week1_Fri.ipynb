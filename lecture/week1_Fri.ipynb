{
 "cells": [
  {
   "cell_type": "markdown",
   "id": "4d0c6954",
   "metadata": {},
   "source": [
    "# Lecture Week 1 Fri 10/4"
   ]
  },
  {
   "cell_type": "code",
   "execution_count": 1,
   "id": "e245f132-ad9b-4901-8719-4a1066356a24",
   "metadata": {},
   "outputs": [],
   "source": [
    "a = [1,2, 3]\n",
    "b = a\n",
    "b[0] = True"
   ]
  },
  {
   "cell_type": "code",
   "execution_count": 2,
   "id": "b4c9c145-82e3-45eb-aa78-e253eb2af301",
   "metadata": {},
   "outputs": [
    {
     "data": {
      "text/plain": [
       "[True, 2, 3]"
      ]
     },
     "execution_count": 2,
     "metadata": {},
     "output_type": "execute_result"
    }
   ],
   "source": [
    "a"
   ]
  },
  {
   "cell_type": "code",
   "execution_count": 3,
   "id": "65e6137c-fd27-40c5-b004-e3feccd93c71",
   "metadata": {},
   "outputs": [
    {
     "data": {
      "text/plain": [
       "[1, 2, 3]"
      ]
     },
     "execution_count": 3,
     "metadata": {},
     "output_type": "execute_result"
    }
   ],
   "source": [
    "a = [1, 2, 3]\n",
    "\n",
    "b = []\n",
    "for elem in a:\n",
    "    b.append(elem)\n",
    "\n",
    "# what is b\n",
    "b"
   ]
  },
  {
   "cell_type": "code",
   "execution_count": 4,
   "id": "f5481724-12fd-49ff-8576-21b52df980ae",
   "metadata": {},
   "outputs": [],
   "source": [
    "b[0] = 0"
   ]
  },
  {
   "cell_type": "code",
   "execution_count": 5,
   "id": "42c9dadd-cecd-41f8-b52b-5d52dfb9cb0d",
   "metadata": {},
   "outputs": [
    {
     "data": {
      "text/plain": [
       "[0, 2, 3]"
      ]
     },
     "execution_count": 5,
     "metadata": {},
     "output_type": "execute_result"
    }
   ],
   "source": [
    "b"
   ]
  },
  {
   "cell_type": "code",
   "execution_count": 6,
   "id": "e05de2b9-56e6-4c52-8ac6-aa71bd56eb52",
   "metadata": {},
   "outputs": [
    {
     "data": {
      "text/plain": [
       "[1, 2, 3]"
      ]
     },
     "execution_count": 6,
     "metadata": {},
     "output_type": "execute_result"
    }
   ],
   "source": [
    "a"
   ]
  },
  {
   "cell_type": "code",
   "execution_count": 7,
   "id": "bd90d2f8-af81-4035-8837-3398d5ed8763",
   "metadata": {},
   "outputs": [],
   "source": [
    "d = {'a': 1, 3: False}"
   ]
  },
  {
   "cell_type": "code",
   "execution_count": 8,
   "id": "4273ea95-a581-4396-82e3-8559ae930b25",
   "metadata": {},
   "outputs": [
    {
     "data": {
      "text/plain": [
       "1"
      ]
     },
     "execution_count": 8,
     "metadata": {},
     "output_type": "execute_result"
    }
   ],
   "source": [
    "d['a']"
   ]
  },
  {
   "cell_type": "code",
   "execution_count": 9,
   "id": "f4131dbb-6de1-4295-b6f5-f8d593033178",
   "metadata": {},
   "outputs": [
    {
     "data": {
      "text/plain": [
       "False"
      ]
     },
     "execution_count": 9,
     "metadata": {},
     "output_type": "execute_result"
    }
   ],
   "source": [
    "d[3]"
   ]
  },
  {
   "cell_type": "code",
   "execution_count": 10,
   "id": "b0363ca1-f2e0-4d3a-a41c-92133c301364",
   "metadata": {},
   "outputs": [],
   "source": [
    "d[2] = 100"
   ]
  },
  {
   "cell_type": "code",
   "execution_count": 11,
   "id": "fd8395a9-f90b-464e-a53b-03d24cf1f617",
   "metadata": {},
   "outputs": [
    {
     "data": {
      "text/plain": [
       "{'a': 1, 3: False, 2: 100}"
      ]
     },
     "execution_count": 11,
     "metadata": {},
     "output_type": "execute_result"
    }
   ],
   "source": [
    "d"
   ]
  },
  {
   "cell_type": "code",
   "execution_count": 12,
   "id": "a1992eba-4f27-47db-98b9-42208ae37ee2",
   "metadata": {},
   "outputs": [],
   "source": [
    "c = d"
   ]
  },
  {
   "cell_type": "code",
   "execution_count": 13,
   "id": "529d8b06-2b6c-4233-be72-6217de9768a5",
   "metadata": {},
   "outputs": [],
   "source": [
    "c[2] = 99"
   ]
  },
  {
   "cell_type": "code",
   "execution_count": 14,
   "id": "3a21fc60-25f8-4a6d-9282-55cafbb2e2ad",
   "metadata": {},
   "outputs": [
    {
     "data": {
      "text/plain": [
       "{'a': 1, 3: False, 2: 99}"
      ]
     },
     "execution_count": 14,
     "metadata": {},
     "output_type": "execute_result"
    }
   ],
   "source": [
    "c"
   ]
  },
  {
   "cell_type": "code",
   "execution_count": 15,
   "id": "8adeda29-c42f-4c72-b1e5-9d7b59f4831f",
   "metadata": {},
   "outputs": [
    {
     "data": {
      "text/plain": [
       "{'a': 1, 3: False, 2: 99}"
      ]
     },
     "execution_count": 15,
     "metadata": {},
     "output_type": "execute_result"
    }
   ],
   "source": [
    "d"
   ]
  },
  {
   "cell_type": "code",
   "execution_count": 16,
   "id": "189dc3c9-e9f1-40e1-9d90-d0f7991308af",
   "metadata": {},
   "outputs": [],
   "source": [
    "a = [1, 2, 3]\n",
    "b = [elem for elem in a]"
   ]
  },
  {
   "cell_type": "code",
   "execution_count": 17,
   "id": "4049105e-1bef-4f34-aec6-2a9d828f4012",
   "metadata": {},
   "outputs": [],
   "source": [
    "a[0] = 100"
   ]
  },
  {
   "cell_type": "code",
   "execution_count": 18,
   "id": "b3df13fa-8d3e-4fb0-896b-1baa7ddd4250",
   "metadata": {},
   "outputs": [
    {
     "data": {
      "text/plain": [
       "[100, 2, 3]"
      ]
     },
     "execution_count": 18,
     "metadata": {},
     "output_type": "execute_result"
    }
   ],
   "source": [
    "a"
   ]
  },
  {
   "cell_type": "code",
   "execution_count": 19,
   "id": "d9c6281f-05f5-4079-946f-9beb8863d5c4",
   "metadata": {},
   "outputs": [
    {
     "data": {
      "text/plain": [
       "[1, 2, 3]"
      ]
     },
     "execution_count": 19,
     "metadata": {},
     "output_type": "execute_result"
    }
   ],
   "source": [
    "b"
   ]
  },
  {
   "cell_type": "code",
   "execution_count": 20,
   "id": "049b3de8-eb96-4e09-85fa-07b56a0991a9",
   "metadata": {},
   "outputs": [],
   "source": [
    "def f(x):\n",
    "    a = 1\n",
    "    y = x + a\n",
    "    return y\n",
    "\n",
    "y = 1\n",
    "b = f(1)\n",
    "# what is y"
   ]
  },
  {
   "cell_type": "code",
   "execution_count": 21,
   "id": "546c7d15-af85-46b1-8e23-d104f2c7e475",
   "metadata": {},
   "outputs": [
    {
     "data": {
      "text/plain": [
       "1"
      ]
     },
     "execution_count": 21,
     "metadata": {},
     "output_type": "execute_result"
    }
   ],
   "source": [
    "y"
   ]
  },
  {
   "cell_type": "code",
   "execution_count": 22,
   "id": "d51d585e-a8d8-4620-9710-6174d1866193",
   "metadata": {},
   "outputs": [
    {
     "data": {
      "text/plain": [
       "4"
      ]
     },
     "execution_count": 22,
     "metadata": {},
     "output_type": "execute_result"
    }
   ],
   "source": [
    "a = 2\n",
    "\n",
    "def myadd(x):\n",
    "    b = x + a\n",
    "    return b\n",
    "\n",
    "a = 3\n",
    "z = myadd(1)\n",
    "# what is z\n",
    "# myadd will use the a at the time of the call, not the time of the definition\n",
    "# In other words, in a notebook enveironment, it depends on the order of execution the code, not the order of writing the code\n",
    "z"
   ]
  },
  {
   "cell_type": "code",
   "execution_count": 26,
   "id": "a444de83-419b-4693-ae97-27ee8c4bbd52",
   "metadata": {},
   "outputs": [
    {
     "name": "stdout",
     "output_type": "stream",
     "text": [
      "4\n",
      "8\n"
     ]
    }
   ],
   "source": [
    "def myfun(x):\n",
    "    return x**2, x**3\n",
    "\n",
    "a,b = myfun(2)\n",
    "print(a)\n",
    "print(b)"
   ]
  },
  {
   "cell_type": "code",
   "execution_count": 27,
   "id": "533c54d8-4857-41dd-b9c6-4b911177320b",
   "metadata": {},
   "outputs": [
    {
     "name": "stdout",
     "output_type": "stream",
     "text": [
      "[1, 2]\n"
     ]
    }
   ],
   "source": [
    "def gen_list(x, y = 1):\n",
    "    return [x,y]\n",
    "\n",
    "print(gen_list(1,2))"
   ]
  },
  {
   "cell_type": "code",
   "execution_count": 28,
   "id": "72a3b98f-38ff-4706-95fb-c80f20404d87",
   "metadata": {},
   "outputs": [
    {
     "name": "stdout",
     "output_type": "stream",
     "text": [
      "[1, 1]\n"
     ]
    }
   ],
   "source": [
    "print(gen_list(1))"
   ]
  },
  {
   "cell_type": "code",
   "execution_count": 29,
   "id": "1ade494a-0096-4374-9e0e-e553a4df69a8",
   "metadata": {},
   "outputs": [],
   "source": [
    "f1 = lambda x: x + 1"
   ]
  },
  {
   "cell_type": "code",
   "execution_count": 30,
   "id": "18629aa0-40fb-4258-a76e-8bd9085cb6a8",
   "metadata": {},
   "outputs": [],
   "source": [
    "def f2(x):\n",
    "    return x + 1"
   ]
  },
  {
   "cell_type": "code",
   "execution_count": 31,
   "id": "0dfa936e-9a1d-46c1-b788-190fdd37e731",
   "metadata": {},
   "outputs": [
    {
     "data": {
      "text/plain": [
       "2"
      ]
     },
     "execution_count": 31,
     "metadata": {},
     "output_type": "execute_result"
    }
   ],
   "source": [
    "f1(1)"
   ]
  },
  {
   "cell_type": "code",
   "execution_count": 32,
   "id": "3042684f-f3fd-4b16-ad43-812e35c8f7d5",
   "metadata": {},
   "outputs": [
    {
     "data": {
      "text/plain": [
       "4"
      ]
     },
     "execution_count": 32,
     "metadata": {},
     "output_type": "execute_result"
    }
   ],
   "source": [
    "a = 2\n",
    "f_add_a = lambda x: x + a\n",
    "a = 3\n",
    "f_add_a(1)"
   ]
  },
  {
   "cell_type": "code",
   "execution_count": 33,
   "id": "c3e1df82-37c8-45b2-8544-956903f9db70",
   "metadata": {},
   "outputs": [],
   "source": [
    "def myfun(n):\n",
    "    if n == 1:\n",
    "        return 1\n",
    "    else:\n",
    "        return n*myfun(n-1)\n"
   ]
  },
  {
   "cell_type": "code",
   "execution_count": 34,
   "id": "42fb10a2-189e-43b3-a062-3584224ce0c9",
   "metadata": {},
   "outputs": [],
   "source": [
    "# how to sort by decreasing order of the absolute value of the elements\n",
    "c = [5, -2, 3, -1, 4]"
   ]
  },
  {
   "cell_type": "code",
   "execution_count": 35,
   "id": "5cfb1700-0d30-4c59-b6fa-56207cc1f95f",
   "metadata": {},
   "outputs": [
    {
     "data": {
      "text/plain": [
       "[5, 4, 3, -2, -1]"
      ]
     },
     "execution_count": 35,
     "metadata": {},
     "output_type": "execute_result"
    }
   ],
   "source": [
    "sorted(c, reverse=True, key = lambda x:abs(x))"
   ]
  },
  {
   "cell_type": "code",
   "execution_count": 36,
   "id": "508f764a-9106-4066-859d-2c58dd7ce51e",
   "metadata": {},
   "outputs": [
    {
     "data": {
      "text/plain": [
       "[1, -1, 1, -1, 1]"
      ]
     },
     "execution_count": 36,
     "metadata": {},
     "output_type": "execute_result"
    }
   ],
   "source": [
    "c_abs = [1 if elem > 0 else -1 for elem in c]\n",
    "c_abs"
   ]
  }
 ],
 "metadata": {
  "kernelspec": {
   "display_name": "Python 3 (ipykernel)",
   "language": "python",
   "name": "python3"
  },
  "language_info": {
   "codemirror_mode": {
    "name": "ipython",
    "version": 3
   },
   "file_extension": ".py",
   "mimetype": "text/x-python",
   "name": "python",
   "nbconvert_exporter": "python",
   "pygments_lexer": "ipython3",
   "version": "3.12.3"
  }
 },
 "nbformat": 4,
 "nbformat_minor": 5
}
