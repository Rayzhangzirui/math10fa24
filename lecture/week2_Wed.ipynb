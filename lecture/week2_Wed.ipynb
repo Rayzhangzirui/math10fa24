{
 "cells": [
  {
   "cell_type": "markdown",
   "id": "a5dd3a7e",
   "metadata": {},
   "source": [
    "# Lecture Week 2 Wed 10/9"
   ]
  },
  {
   "cell_type": "markdown",
   "id": "5936437d",
   "metadata": {
    "vscode": {
     "languageId": "plaintext"
    }
   },
   "source": [
    "Random Variables and expectation. See [Notes](../notes/prob_stat.ipynb)."
   ]
  }
 ],
 "metadata": {
  "kernelspec": {
   "display_name": "Python 3 (ipykernel)",
   "language": "python",
   "name": "python3"
  },
  "language_info": {
   "codemirror_mode": {
    "name": "ipython",
    "version": 3
   },
   "file_extension": ".py",
   "mimetype": "text/x-python",
   "name": "python",
   "nbconvert_exporter": "python",
   "pygments_lexer": "ipython3",
   "version": "3.12.3"
  }
 },
 "nbformat": 4,
 "nbformat_minor": 5
}
