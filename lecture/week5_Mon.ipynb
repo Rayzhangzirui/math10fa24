{
 "cells": [
  {
   "cell_type": "markdown",
   "id": "e781d47d",
   "metadata": {},
   "source": [
    "# Lecture Week 5 Mon 10/7"
   ]
  },
  {
   "cell_type": "markdown",
   "id": "0336c9b4",
   "metadata": {},
   "source": [
    "**Poll**\n",
    "\n",
    "Generally speaking, if we had a new feature that highly correlates with an existing feature, is it useful to include it in our linear regression model?"
   ]
  },
  {
   "cell_type": "markdown",
   "id": "472262df",
   "metadata": {},
   "source": [
    "**Poll**\n",
    "\n",
    "Given input x in 1D, output y in 1D. If we use feature \n",
    "\n",
    "$[x, 2x, 2^2x,..., 2^kx]$ ..., how does the model performance changes as we increase k"
   ]
  },
  {
   "cell_type": "markdown",
   "id": "088f1ba0-c228-4289-b8f7-c7a3a93ad301",
   "metadata": {},
   "source": [
    "# Colinearity \n",
    "\n",
    "If two variables are highly correlated, intuitively, we can say that they are measuring the same thing. In the context of linear regression, this is called multicollinearity.\n",
    "\n",
    "Suppose $Y = aX_1$ and $X_2 = bX_1$, then we can write $Y = \\beta_1 X_1 + \\beta_2 X_2$ for any $\\beta_1$  and $\\beta_2$ such that $\\beta_1 + b \\beta_2 = a$.\n",
    "\n",
    "We can see that the coefficients are not unique. \n",
    "\n",
    "This cause a few problems:\n",
    "\n",
    "1. **Interpretation**: it's difficult to interpret the coefficients. Originally, we would say that a one unit increase in $X_1$ would lead to a $\\beta_1$ increase in $Y$. But now, we can't say that, because we can't change $X_1$ without changing $X_2$.\n",
    "\n",
    "2. **Large Variance of the parameter**: Since there could be infinite solutions, there is no guarantee which one the solver will find. Therefore small changes in the data could lead to large changes in the coefficients.\n",
    "\n",
    "3. **Numerical Stability**: Sometimes the solver can't find the solution.\n",
    "\n",
    "However, this does not affect the prediction: even though the coefficients are not unique, the prediction will be the same."
   ]
  },
  {
   "cell_type": "code",
   "execution_count": 12,
   "id": "448ff9b1-e978-492f-b2a5-071855bf7791",
   "metadata": {},
   "outputs": [],
   "source": [
    "import numpy as np\n",
    "from sklearn.linear_model import LinearRegression\n",
    "\n",
    "X = np.random.uniform(0,1,(100,1))\n",
    "\n",
    "# append collinear columns\n",
    "X = np.column_stack((X, X[:,0]*2))\n",
    "y = X[:,0] + np.random.randn(100)\n"
   ]
  },
  {
   "cell_type": "code",
   "execution_count": 13,
   "id": "f3ca7ace-a5f4-4741-be7d-10a65462e5f1",
   "metadata": {},
   "outputs": [
    {
     "data": {
      "text/plain": [
       "array([[0.62365027, 1.24730053],\n",
       "       [0.4253973 , 0.85079461],\n",
       "       [0.43361357, 0.86722714],\n",
       "       [0.717071  , 1.434142  ],\n",
       "       [0.42653244, 0.85306487],\n",
       "       [0.53399778, 1.06799557],\n",
       "       [0.31122431, 0.62244861],\n",
       "       [0.85197119, 1.70394239],\n",
       "       [0.36421847, 0.72843694],\n",
       "       [0.73485184, 1.46970368],\n",
       "       [0.95144227, 1.90288455],\n",
       "       [0.36629381, 0.73258763],\n",
       "       [0.13651207, 0.27302415],\n",
       "       [0.13391422, 0.26782845],\n",
       "       [0.73678487, 1.47356975],\n",
       "       [0.33688059, 0.67376118],\n",
       "       [0.31941082, 0.63882164],\n",
       "       [0.13129254, 0.26258509],\n",
       "       [0.48312005, 0.9662401 ],\n",
       "       [0.19293042, 0.38586083],\n",
       "       [0.90247469, 1.80494938],\n",
       "       [0.10462735, 0.2092547 ],\n",
       "       [0.77478773, 1.54957547],\n",
       "       [0.4485391 , 0.8970782 ],\n",
       "       [0.67584279, 1.35168559],\n",
       "       [0.53556331, 1.07112662],\n",
       "       [0.17936428, 0.35872856],\n",
       "       [0.45865905, 0.91731811],\n",
       "       [0.43844865, 0.8768973 ],\n",
       "       [0.95822866, 1.91645733],\n",
       "       [0.93936992, 1.87873985],\n",
       "       [0.48351485, 0.96702971],\n",
       "       [0.76848652, 1.53697304],\n",
       "       [0.74659586, 1.49319172],\n",
       "       [0.30637101, 0.61274201],\n",
       "       [0.71966159, 1.43932319],\n",
       "       [0.5990783 , 1.1981566 ],\n",
       "       [0.04917678, 0.09835356],\n",
       "       [0.78568906, 1.57137812],\n",
       "       [0.23491446, 0.46982892],\n",
       "       [0.83524037, 1.67048074],\n",
       "       [0.12860991, 0.25721982],\n",
       "       [0.22757576, 0.45515152],\n",
       "       [0.6783472 , 1.35669439],\n",
       "       [0.09459492, 0.18918984],\n",
       "       [0.37375248, 0.74750497],\n",
       "       [0.48121314, 0.96242628],\n",
       "       [0.93840482, 1.87680963],\n",
       "       [0.91088067, 1.82176133],\n",
       "       [0.23372349, 0.46744699],\n",
       "       [0.12110401, 0.24220802],\n",
       "       [0.62649115, 1.25298231],\n",
       "       [0.65600748, 1.31201497],\n",
       "       [0.41327241, 0.82654483],\n",
       "       [0.87526916, 1.75053832],\n",
       "       [0.62088216, 1.24176432],\n",
       "       [0.61256831, 1.22513662],\n",
       "       [0.6880837 , 1.37616741],\n",
       "       [0.66363576, 1.32727151],\n",
       "       [0.43210947, 0.86421895],\n",
       "       [0.15804385, 0.3160877 ],\n",
       "       [0.83568519, 1.67137038],\n",
       "       [0.53916489, 1.07832977],\n",
       "       [0.37496727, 0.74993454],\n",
       "       [0.45414027, 0.90828053],\n",
       "       [0.01863059, 0.03726118],\n",
       "       [0.10407411, 0.20814822],\n",
       "       [0.70851436, 1.41702871],\n",
       "       [0.89112632, 1.78225263],\n",
       "       [0.43227028, 0.86454056],\n",
       "       [0.51323461, 1.02646922],\n",
       "       [0.51997571, 1.03995143],\n",
       "       [0.41797499, 0.83594999],\n",
       "       [0.23205229, 0.46410459],\n",
       "       [0.2632247 , 0.52644939],\n",
       "       [0.41732701, 0.83465402],\n",
       "       [0.29158383, 0.58316767],\n",
       "       [0.87425648, 1.74851296],\n",
       "       [0.14387416, 0.28774832],\n",
       "       [0.98656439, 1.97312877],\n",
       "       [0.61229716, 1.22459431],\n",
       "       [0.72356889, 1.44713777],\n",
       "       [0.94288385, 1.88576771],\n",
       "       [0.07805372, 0.15610744],\n",
       "       [0.10098234, 0.20196469],\n",
       "       [0.68889518, 1.37779035],\n",
       "       [0.44619938, 0.89239876],\n",
       "       [0.16402955, 0.32805909],\n",
       "       [0.60039083, 1.20078165],\n",
       "       [0.37525504, 0.75051008],\n",
       "       [0.39785474, 0.79570948],\n",
       "       [0.77653281, 1.55306561],\n",
       "       [0.62362695, 1.24725389],\n",
       "       [0.00591554, 0.01183108],\n",
       "       [0.80683403, 1.61366805],\n",
       "       [0.26391796, 0.52783592],\n",
       "       [0.2924461 , 0.58489221],\n",
       "       [0.39119296, 0.78238592],\n",
       "       [0.24553983, 0.49107966],\n",
       "       [0.74915235, 1.49830469]])"
      ]
     },
     "execution_count": 13,
     "metadata": {},
     "output_type": "execute_result"
    }
   ],
   "source": [
    "X"
   ]
  },
  {
   "cell_type": "code",
   "execution_count": 14,
   "id": "635e674c-f5d1-4583-b2de-e4f3008c46bc",
   "metadata": {},
   "outputs": [
    {
     "name": "stdout",
     "output_type": "stream",
     "text": [
      "coefs: [0.29626866 0.59253733], intercept: -0.08254725576306376, score: 0.13419087806713048\n",
      "coefs: [1.48134332], intercept: -0.08254725576306343, score: 0.1341908780671307\n"
     ]
    }
   ],
   "source": [
    "\n",
    "# regression with X0 and X1=2*X0\n",
    "lreg_sklearn = LinearRegression()\n",
    "lreg_sklearn.fit(X,y)\n",
    "score = lreg_sklearn.score(X,y)\n",
    "print(f'coefs: {lreg_sklearn.coef_}, intercept: {lreg_sklearn.intercept_}, score: {score}')\n",
    "\n",
    "\n",
    "# regression with X0\n",
    "lreg_sklearn.fit(X[:,0:1],y)\n",
    "score = lreg_sklearn.score(X[:,0:1],y)\n",
    "print(f'coefs: {lreg_sklearn.coef_}, intercept: {lreg_sklearn.intercept_}, score: {score}')\n",
    "\n"
   ]
  },
  {
   "cell_type": "markdown",
   "id": "5853992d-6bb7-41d6-bc35-032dc87a0b63",
   "metadata": {},
   "source": [
    "# Cross validation"
   ]
  },
  {
   "cell_type": "markdown",
   "id": "515dde62-18ba-44b5-8e59-11ae65a2988b",
   "metadata": {},
   "source": [
    "## Training, Validation, and Testing\n",
    "\n",
    "Note that we have the following separate goals:\n",
    "\n",
    "- **Model selection**: estimate the performance of different models in order to choose the best one.\n",
    "- **Model assessment**: after choosing the best model, estimate its prediction error on new data.\n",
    "\n",
    "If we have plenty of data, we can split it into three sets: training, validation, and test. \n",
    "\n",
    "The training set is used to fit the models. \n",
    "The validation set is used to estimate prediction error, which is used to select the model or tune the hyperparameters. In our example, this is the degree of the polynomial. Notice that in the process, the models \"see\" the validation set.\n",
    "The test set is used for assessment of the generalization error of the final chosen model. This set is never seen by the models. We should not go back and choose the model based on the test set performance.\n",
    "\n",
    "One common way of splitting the data is 60% training, 20% validation, and 20% test.\n"
   ]
  },
  {
   "cell_type": "markdown",
   "id": "cabc8aee-b79d-400f-9fc4-eb0239630cdc",
   "metadata": {},
   "source": [
    "Sometimes people use \"validation\" and \"test\" interchangeably. This is fine if we are only doing only one of the tasks above (model selection or model assessment). However, if we are doing both, we should have two separate sets.\n"
   ]
  },
  {
   "cell_type": "markdown",
   "id": "ed8ca6c2-bd8c-4c76-8467-87e5af3032f6",
   "metadata": {},
   "source": [
    "## Question:\n",
    "\n",
    "Take the penguins dataset. Use the flipper length to predict the body mass. \n",
    "Perform a 5-fold cross-validation. What is the average mean squared error?\n",
    "\n",
    "Feel free Look up the documentation of KFold, google, chatGPT, or discuss with your classmates."
   ]
  },
  {
   "cell_type": "code",
   "execution_count": 15,
   "id": "dbfb011b-4147-4dbc-96aa-9f243db747a6",
   "metadata": {},
   "outputs": [],
   "source": [
    "# example from scikit-learn\n",
    "# https://scikit-learn.org/dev/modules/generated/sklearn.model_selection.KFold.html\n",
    "from sklearn.model_selection import KFold\n",
    "X = np.array([[1, 2], [3, 4], [1, 2], [3, 4]])\n",
    "y = np.array([1, 2, 3, 4])"
   ]
  },
  {
   "cell_type": "code",
   "execution_count": 16,
   "id": "b7ce801b-99c6-4f0c-886a-90c122e0d0ad",
   "metadata": {},
   "outputs": [],
   "source": [
    "kf = KFold(n_splits=4)"
   ]
  },
  {
   "cell_type": "code",
   "execution_count": 17,
   "id": "ef373716-2098-402b-b3be-2e255d59f61b",
   "metadata": {},
   "outputs": [
    {
     "data": {
      "text/plain": [
       "sklearn.model_selection._split.KFold"
      ]
     },
     "execution_count": 17,
     "metadata": {},
     "output_type": "execute_result"
    }
   ],
   "source": [
    "type(kf)\n",
    "#"
   ]
  },
  {
   "cell_type": "code",
   "execution_count": 18,
   "id": "1811d780-82f3-47e0-8c8f-d0962cf749fa",
   "metadata": {},
   "outputs": [
    {
     "data": {
      "text/plain": [
       "generator"
      ]
     },
     "execution_count": 18,
     "metadata": {},
     "output_type": "execute_result"
    }
   ],
   "source": [
    "type(kf.split(X))\n",
    "# This is an object that is similar to the range object\n",
    "# We can iterate over it"
   ]
  },
  {
   "cell_type": "code",
   "execution_count": 19,
   "id": "372a9147-3f12-4a24-bea4-f33cae0bace4",
   "metadata": {},
   "outputs": [
    {
     "name": "stdout",
     "output_type": "stream",
     "text": [
      "  Train: index=[1 2 3]\n",
      "  Test:  index=[0]\n",
      "  Train: index=[0 2 3]\n",
      "  Test:  index=[1]\n",
      "  Train: index=[0 1 3]\n",
      "  Test:  index=[2]\n",
      "  Train: index=[0 1 2]\n",
      "  Test:  index=[3]\n"
     ]
    }
   ],
   "source": [
    "# get the indices of the train and test sets\n",
    "for train_index, test_index in kf.split(X):\n",
    "    print(f\"  Train: index={train_index}\")\n",
    "    print(f\"  Test:  index={test_index}\")"
   ]
  },
  {
   "cell_type": "code",
   "execution_count": 20,
   "id": "1777e692-1cc4-43e1-88d8-4f18460b5c0c",
   "metadata": {},
   "outputs": [
    {
     "name": "stdout",
     "output_type": "stream",
     "text": [
      "  i: 0\n",
      "  Train: index=[1 2 3]\n",
      "  Test:  index=[0]\n",
      "  i: 1\n",
      "  Train: index=[0 2 3]\n",
      "  Test:  index=[1]\n",
      "  i: 2\n",
      "  Train: index=[0 1 3]\n",
      "  Test:  index=[2]\n",
      "  i: 3\n",
      "  Train: index=[0 1 2]\n",
      "  Test:  index=[3]\n"
     ]
    }
   ],
   "source": [
    "# using enumerate to get the counter i\n",
    "for i, (train_index, test_index) in enumerate(kf.split(X)):\n",
    "    print(f\"  i: {i}\")\n",
    "    print(f\"  Train: index={train_index}\")\n",
    "    print(f\"  Test:  index={test_index}\")"
   ]
  },
  {
   "cell_type": "code",
   "execution_count": 21,
   "id": "fc16eb9e-345f-482a-86e1-bb12e6da99e6",
   "metadata": {},
   "outputs": [
    {
     "name": "stdout",
     "output_type": "stream",
     "text": [
      "Fold 0 R^2 score: 0.725084353204537\n",
      "Fold 1 R^2 score: 0.6993225273807326\n",
      "Fold 2 R^2 score: 0.7895360534716703\n",
      "Fold 3 R^2 score: 0.7782229609972658\n",
      "Fold 4 R^2 score: 0.794602971686194\n",
      "Mean R^2 score: 0.75735377334808\n"
     ]
    }
   ],
   "source": [
    "import numpy as np\n",
    "import seaborn as sns\n",
    "import pandas as pd\n",
    "from sklearn.linear_model import LinearRegression\n",
    "from sklearn.model_selection import KFold\n",
    "\n",
    "# Load the Penguins dataset\n",
    "df = sns.load_dataset('penguins')\n",
    "df.dropna(inplace=True)  # Remove missing values\n",
    "\n",
    "# features = ['bill_length_mm', 'bill_depth_mm','flipper_length_mm']\n",
    "features = ['flipper_length_mm']\n",
    "target = ['body_mass_g']  \n",
    "\n",
    "# Initialize linear regression model\n",
    "model = LinearRegression()\n",
    "\n",
    "kf = KFold(n_splits=5, shuffle=True, random_state=1)\n",
    "\n",
    "\n",
    "all_scores = []\n",
    "\n",
    "for i, (train_index, test_index) in enumerate(kf.split(df)):\n",
    "    X_train = df[features].iloc[train_index] \n",
    "    X_test  = df[features].iloc[test_index]\n",
    "\n",
    "    y_train = df[target].iloc[train_index]\n",
    "    y_test = df[target].iloc[test_index]\n",
    "\n",
    "    model.fit(X_train, y_train)\n",
    "    score = model.score(X_test, y_test)\n",
    "\n",
    "    all_scores.append(score)\n",
    "\n",
    "    print(f\"Fold {i} R^2 score:\", score)\n",
    "\n",
    "print(f\"Mean R^2 score: {np.mean(all_scores)}\")"
   ]
  }
 ],
 "metadata": {
  "kernelspec": {
   "display_name": "math10",
   "language": "python",
   "name": "python3"
  },
  "language_info": {
   "codemirror_mode": {
    "name": "ipython",
    "version": 3
   },
   "file_extension": ".py",
   "mimetype": "text/x-python",
   "name": "python",
   "nbconvert_exporter": "python",
   "pygments_lexer": "ipython3",
   "version": "3.12.3"
  }
 },
 "nbformat": 4,
 "nbformat_minor": 5
}
