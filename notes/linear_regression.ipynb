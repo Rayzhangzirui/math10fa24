{
 "cells": [
  {
   "cell_type": "markdown",
   "id": "2a76aac4",
   "metadata": {},
   "source": [
    "# Linear Regression"
   ]
  },
  {
   "cell_type": "markdown",
   "id": "94236d4b",
   "metadata": {},
   "source": [
    "## Problem\n",
    "Given the *training dataset* $x_i\\in\\mathbb{R}$, $y_i\\in\\mathbb{R}$, $i= 1,2,..., N$, we want to find the linear function \n",
    "\n",
    "$$ y\\approx f(x) = wx + b $$ \n",
    "\n",
    "that fits the relations between $x_i$ and $y_i$. So that given any $x$, we can make the prediction \n",
    "\n",
    "$$ \\hat{y} = w x+b $$\n",
    "\n"
   ]
  },
  {
   "cell_type": "markdown",
   "id": "8cb06697",
   "metadata": {},
   "source": [
    "## Loss Function and Optimization\n",
    "\n",
    "With the training dataset, define the loss function $L(w,b)$ of parameter $w$ and $b$, which is also called **mean squared error** (MSE) \n",
    "\n",
    "$$L(w,b)=\\frac{1}{N}\\sum_{i=1}^N\\big(\\hat{y}^{(i)}-y_i\\big)^2=\\frac{1}{N}\\sum_{i=1}^N\\big((wx_i+b)-y_i\\big)^2,$$\n",
    "\n",
    "where $\\hat{y}^{(i)}$ denotes the predicted value of y at $x_i$, i.e. $\\hat{y}^{(i)} = wx_i+b$.\n",
    "\n",
    "Our goal is to find the optimal $w$ and $b$ that minimize the loss function $L(w,b)$, i.e.\n",
    "\n",
    "$$\\min_{w,b} L(w,b)$$\n",
    "\n",
    "\n",
    "This is a function of $w$ and $b$, and we can analytically solve $\\partial_{w}L = \\partial_{b}L =0$, and yields\n",
    "\n",
    "$$w^* = \\frac{\\sum_{i=1}^{N} (x_i - \\bar{X})(y_i - \\bar{Y})}{\\sum_{i=1}^{N} (x_i - \\bar{X})^2} = \\frac{\\text{Cov}(X,Y)}{\\text{Var}(X)}$$\n",
    "\n",
    "\n",
    "$$b^* = \\bar{Y}  - w^*\\bar{X}$$\n",
    "\n",
    "where $\\bar{X}$ and $\\bar{Y}$ are the mean of $x$ and of $y$, and $\\text{Cov}(X,Y)$ denotes the estimated covariance (or called sample covariance) between $X$ and $Y$, $\\text{Var}(Y)$ denotes the sample variance of $Y$."
   ]
  },
  {
   "cell_type": "markdown",
   "id": "228197da",
   "metadata": {},
   "source": [
    "## Evaluating the model\n",
    "\n",
    "- MSE: The smaller MSE indicates better performance. \n",
    "\n",
    "MSE depends on the unit. For example, if we replace y[m] by y[mm], than MSE will be $1000^2$ times the original MSE.\n",
    "\n",
    "\n",
    "- $R^{2}$ (coefficient of determination):\n",
    "The larger $R^{2}$ (closer to 1) indicates better performance. Compared with MSE, R-squared is **dimensionless**, not dependent on the units of variable. \n",
    "\n",
    "$$R^{2} = 1 - \\frac{\\sum_{i=1}^{N}(y_i-\\hat{y}^{(i)})^{2}}{\\sum_{i=1}^{N}(y_i-\\bar{y})^{2}} = 1 - \\frac{\\frac{1}{N}\\sum_{i=1}^{N}(y_i-\\hat{y}^{(i)})^{2}}{\\frac{1}{N}\\sum_{i=1}^{N}(y_i-\\bar{y})^{2}} = 1 - \\frac{\\text{MSE}}{\\text{Var}(Y)}$$\n",
    "\n",
    "Intuitively, MSE is the \"unexplained\" variance, and $R^{2}$ is the proportion of the variance that is explained by the model: \n",
    "If our model is perfect, then MSE is 0, and $R^{2}$ is 1.\n",
    "If we are using a constant model, then our best prediction is the mean of $y$, and MSE is the variance of $y$, and $R^{2}$ is 0; "
   ]
  },
  {
   "cell_type": "code",
   "execution_count": 22,
   "id": "20d83316",
   "metadata": {},
   "outputs": [],
   "source": [
    "import numpy as np\n",
    "import matplotlib.pyplot as plt\n",
    "\n",
    "class myLinearRegression:\n",
    "    '''\n",
    "    The single-variable linear regression estimator.\n",
    "    This serves as an example of the regression models from sklearn, with methods fit, predict, and score.\n",
    "    '''\n",
    "    def __init__(self):\n",
    "        '''\n",
    "        '''\n",
    "        self.w = None\n",
    "        self.b = None\n",
    "    \n",
    "    def fit(self, x, y):\n",
    "        # covariance matrix, \n",
    "        # bias = True makes the factor 1/N, otherwise 1/(N-1)\n",
    "        # but it doesn't matter here, since the factor will be cancelled out in the calculation of w\n",
    "        \n",
    "        cov_mat = np.cov(x, y, bias=True)\n",
    "        # cov_mat[0, 1] is the covariance of x and y, and cov_mat[0, 0] is the variance of x\n",
    "\n",
    "        self.w = cov_mat[0, 1] / cov_mat[0, 0]\n",
    "        self.b = np.mean(y) - self.w * np.mean(x)\n",
    "\n",
    "        # :.3f means 3 decimal places\n",
    "        print(f'w = {self.w:.3f}, b = {self.b:.3f}')\n",
    "\n",
    "    def predict(self, x):\n",
    "        '''\n",
    "        Predict the output values for the input value x, based on trained parameters\n",
    "\n",
    "        '''\n",
    "        ypred = self.w * x + self.b\n",
    "        return ypred\n",
    "\n",
    "    def score(self, x, y):\n",
    "        '''\n",
    "        Calculate the R^2 score of the model\n",
    "        '''\n",
    "        mse =  np.mean((y - self.predict(x))**2)\n",
    "        var = np.mean((y - np.mean(y))**2)\n",
    "        Rsquare = 1 - mse / var\n",
    "        return Rsquare"
   ]
  },
  {
   "cell_type": "code",
   "execution_count": 23,
   "id": "5be338af",
   "metadata": {},
   "outputs": [
    {
     "name": "stdout",
     "output_type": "stream",
     "text": [
      "w = 2.467, b = 0.462\n",
      "score = 0.580\n"
     ]
    },
    {
     "data": {
      "image/png": "[encoded data removed]",
      "text/plain": [
       "<Figure size 640x480 with 1 Axes>"
      ]
     },
     "metadata": {},
     "output_type": "display_data"
    }
   ],
   "source": [
    "# Generate synthetic data\n",
    "\n",
    "np.random.seed(0) # for reproducibility\n",
    "\n",
    "a = 0\n",
    "b = 2\n",
    "N = 20\n",
    "\n",
    "x = np.random.uniform(a,b,N)\n",
    "y = 2 * x + 1 + np.random.randn(N)\n",
    "y_gt = 2 * x + 1\n",
    "\n",
    "# Fit the model\n",
    "lm = myLinearRegression()\n",
    "lm.fit(x, y)\n",
    "score = lm.score(x, y)\n",
    "\n",
    "\n",
    "# plot data\n",
    "plt.plot(x, y, 'o', label='data')\n",
    "# plot ground truth\n",
    "plt.plot(x, y_gt, label='ground truth')\n",
    "\n",
    "\n",
    "# plot the linear regression model\n",
    "xs = np.linspace(a, b, 100)\n",
    "plt.plot(xs, lm.predict(xs), label=f'pred, $R^2$={score:.3f}')\n",
    "plt.legend()\n",
    "\n",
    "print(f'score = {score:.3f}')\n",
    "\n"
   ]
  },
  {
   "cell_type": "markdown",
   "id": "b49f17cd",
   "metadata": {},
   "source": [
    "We can also use `LinearRegression` from `sklearn.linear_model` to fit the linear model. "
   ]
  },
  {
   "cell_type": "code",
   "execution_count": 24,
   "id": "471d9169",
   "metadata": {},
   "outputs": [],
   "source": [
    "# Use the following command to install scikit-learn\n",
    "# %conda install scikit-learn\n",
    "# or\n",
    "# %pip install scikit-learn"
   ]
  },
  {
   "cell_type": "code",
   "execution_count": 25,
   "id": "986c51fb",
   "metadata": {},
   "outputs": [
    {
     "name": "stdout",
     "output_type": "stream",
     "text": [
      "w = 2.467, b = 0.462\n",
      "score = 0.580\n"
     ]
    }
   ],
   "source": [
    "from sklearn.linear_model import LinearRegression\n",
    "\n",
    "reg = LinearRegression()\n",
    "\n",
    "# x need to be n-sample by p features\n",
    "reg.fit(x.reshape(-1, 1), y)\n",
    "print(f'w = {reg.coef_[0]:.3f}, b = {reg.intercept_:.3f}')\n",
    "\n",
    "score = reg.score(x.reshape(-1, 1), y)\n",
    "print(f'score = {score:.3f}')"
   ]
  },
  {
   "cell_type": "markdown",
   "id": "029d6a0d",
   "metadata": {},
   "source": [
    "## What is the effect of centering the data?"
   ]
  },
  {
   "cell_type": "markdown",
   "id": "217366f0",
   "metadata": {},
   "source": [
    "When $X$ is centered, the slope $w$ remains the same, but the intercept $b$ changes.\n",
    "\n",
    "The intercept now means the predicted Y when X is at the mean."
   ]
  },
  {
   "cell_type": "code",
   "execution_count": 26,
   "id": "3b3a1eb6",
   "metadata": {},
   "outputs": [
    {
     "name": "stdout",
     "output_type": "stream",
     "text": [
      "w = 2.467, b = 3.332\n"
     ]
    }
   ],
   "source": [
    "x_center = x - np.mean(x)\n",
    "\n",
    "reg.fit(x_center.reshape(-1, 1), y)\n",
    "print(f'w = {reg.coef_[0]:.3f}, b = {reg.intercept_:.3f}')"
   ]
  },
  {
   "cell_type": "markdown",
   "id": "fb92c6ba",
   "metadata": {},
   "source": [
    "When Y is centered, then the intercept $b$ is 0, and the slope $w$ is the correlation between $X$ and $Y$."
   ]
  },
  {
   "cell_type": "code",
   "execution_count": 27,
   "id": "9cd238d1",
   "metadata": {},
   "outputs": [
    {
     "name": "stdout",
     "output_type": "stream",
     "text": [
      "w = 2.467, b = 0.000\n"
     ]
    }
   ],
   "source": [
    "\n",
    "y_center = y - np.mean(y)\n",
    "reg.fit(x_center.reshape(-1, 1), y_center)\n",
    "print(f'w = {reg.coef_[0]:.3f}, b = {reg.intercept_:.3f}')"
   ]
  },
  {
   "cell_type": "markdown",
   "id": "3c6535b6",
   "metadata": {},
   "source": [
    "## What is the effect of scaling the data?\n",
    "\n",
    "When $X/c$ is used, the optimal slope is now $c w$, and the intercept does not change"
   ]
  },
  {
   "cell_type": "code",
   "execution_count": 28,
   "id": "e070c161",
   "metadata": {},
   "outputs": [
    {
     "name": "stdout",
     "output_type": "stream",
     "text": [
      "w = 4.756, b = 0.462\n"
     ]
    }
   ],
   "source": [
    "# suppose we want to scale x to [0, 1]\n",
    "scale_factor = np.max(x)\n",
    "x_scale = x / scale_factor\n",
    "reg.fit(x_scale.reshape(-1, 1), y)\n",
    "print(f'w = {reg.coef_[0]:.3f}, b = {reg.intercept_:.3f}')"
   ]
  },
  {
   "cell_type": "markdown",
   "id": "b7d222e5",
   "metadata": {},
   "source": [
    "For *linear regression*, centering and scaling the data (both training and testing data ) does not affect the performance of the model. \n",
    "\n",
    "For some other models, centering and scaling can be essential\n",
    "\n"
   ]
  },
  {
   "cell_type": "markdown",
   "id": "bc13aa16",
   "metadata": {},
   "source": [
    "## Appendix\n",
    "\n",
    "Detailed Derivation of the Optimal Parameters (Not exam material).\n",
    "\n",
    "The loss function for simple linear regression is given by:\n",
    "\n",
    "$$L(w, b) = \\frac{1}{N} \\sum_{i=1}^N ((wx_i + b) - y_i)^2$$\n",
    "\n",
    "To find the optimal \\( w \\), we set the partial derivative of \\( L \\) with respect to \\( w \\) to zero:\n",
    "\n",
    "1. Differentiate with respect to \\( w \\):\n",
    "\n",
    "$$\\frac{\\partial L}{\\partial w} = \\frac{2}{N} \\sum_{i=1}^{N} x_i ((wx_i + b) - y_i) = 0$$\n",
    "\n",
    "Rearrange this equation to get:\n",
    "\n",
    "\n",
    "$$w \\sum_{i=1}^{N} x_i^2 + b N \\bar{X} = \\sum_{i=1}^{N} x_i y_i\\quad\\quad(*)$$\n",
    "\n",
    "2. Derivative with respect to $b$:\n",
    "\n",
    "$$\n",
    "\\frac{\\partial L}{\\partial b} = \\frac{2}{N} \\sum_{i=1}^{N} ((wx_i + b) - y_i) = 0\n",
    "$$\n",
    "\n",
    "This simplifies to:\n",
    "\n",
    "$$\n",
    "w\\sum_{i=1}^{N} x_i + Nb = \\sum_{i=1}^{N} y_i\n",
    "$$\n",
    "\n",
    "Or, equivalently:\n",
    "\n",
    "$$\n",
    "w\\bar{X} + b = \\bar{Y}\n",
    "$$\n"
   ]
  },
  {
   "cell_type": "markdown",
   "id": "e06da3a6",
   "metadata": {},
   "source": [
    "Substitute $b$ back into the equation (*), we get:\n",
    "\n",
    "$$w \\sum_{i=1}^{N} x_i^2 + (\\bar{Y} - w \\bar{X}) n \\bar{X} = \\sum_{i=1}^{N} x_i y_i$$\n",
    "\n",
    "Expanding this:\n",
    "\n",
    "$$w \\sum_{i=1}^{N} x_i^2 + N \\bar{Y} \\bar{X}- w \\bar{X} \\sum_{i=1}^{N} x_i = \\sum_{i=1}^{N} x_i y_i$$\n",
    "\n",
    "Rearranging terms\n",
    "\n",
    "$$w (\\sum_{i=1}^{N} x_i^2 - N\\bar{X}^2) = \\sum_{i=1}^{N} x_i y_i - N\\bar{Y}\\bar{X}$$\n",
    "\n",
    "Now, solving for $w$:\n",
    "\n",
    "$$w = \\frac{\\sum_{i=1}^{N} x_i y_i - N\\bar{Y}\\bar{X}}{\\sum_{i=1}^{N} x_i^2 - N\\bar{X}^2}$$\n",
    "\n",
    "Recall that $Cov(X,Y) = E[XY]-E[X]E[Y]$, and $Var(X) = E[X^2] - E[X]^2$. \n",
    "Divide both the numerator and the denominator by $N$.\n",
    "We can rewrite the above equation in terms of covariance and variance:\n",
    "$$w = \\frac{Cov(X,Y)}{Var(X)}$$\n",
    "\n",
    "This is the final expression for $w^*$ in simple linear regression, representing the slope of the best-fit line."
   ]
  }
 ],
 "metadata": {
  "kernelspec": {
   "display_name": "math10",
   "language": "python",
   "name": "python3"
  },
  "language_info": {
   "codemirror_mode": {
    "name": "ipython",
    "version": 3
   },
   "file_extension": ".py",
   "mimetype": "text/x-python",
   "name": "python",
   "nbconvert_exporter": "python",
   "pygments_lexer": "ipython3",
   "version": "3.12.3"
  }
 },
 "nbformat": 4,
 "nbformat_minor": 5
}
